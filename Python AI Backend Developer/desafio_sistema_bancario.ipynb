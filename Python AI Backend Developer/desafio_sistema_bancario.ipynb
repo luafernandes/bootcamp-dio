{
 "cells": [
  {
   "cell_type": "markdown",
   "metadata": {},
   "source": [
    "## DESAFIO\n",
    "\n",
    "Fomos contratados por um grande banco para desenvolver o seu novo sistema. Esse banco deseja modernizar suas operações e para isso escolheu a linguagem Python. Para a primeira versão do sistema devemos implementar apenas 3 operações: depósito, saque e extrato"
   ]
  },
  {
   "cell_type": "markdown",
   "metadata": {},
   "source": [
    "### Operação de depósito\n",
    "\n",
    "Deve ser possível depositar valores positivos para a minha conta bancária. A v1 do projeto trabalha apenas com 1 usuário, dessa forma não precisamos nos preocupar em identificar qual é o número da agência e conta bancária. Todos os depósitos devem ser armazenados em uma variável e exibidos na operação extrato."
   ]
  },
  {
   "cell_type": "markdown",
   "metadata": {},
   "source": [
    "### Operação de saque\n",
    "\n",
    "O sistema deve permitir realizar 3 saques diários com limite máximo de R$500,00 por saque. Caso o usuário não tenha saldo em conta, o sistema deve exibir uma mensagem informando que não será possível sacar o dinheiro por falta de saldo. Todos os saques devem ser armazenados em uma variável e exibidos na operação extrato."
   ]
  },
  {
   "cell_type": "markdown",
   "metadata": {},
   "source": [
    "### Operação de extrato\n",
    "\n",
    "Essa operação deve listar todos os depósitos e saques realizados na conta. No fim da listagem deve ser exibido o saldo atual da conta.\n",
    "\n",
    "Os valores devem ser exibidos utilizando o formato R$ xxx.xx"
   ]
  },
  {
   "cell_type": "code",
   "execution_count": null,
   "metadata": {},
   "outputs": [],
   "source": [
    "# Criando as opções de menu\n",
    "menu = '''\n",
    "[1] Deposito\n",
    "[2] Saque\n",
    "[3] Extrato\n",
    "[4] Sair\n",
    "'''\n",
    "\n",
    "# Inicializando as variáveis\n",
    "saldo = 0\n",
    "limite = 500\n",
    "extrato = ''\n",
    "n_saque = 0\n",
    "limite_saque = 3\n",
    "\n",
    "while True:\n",
    "    print (menu)\n",
    "    opcao = input('Qual operação deseja realizar? ')\n",
    "\n",
    "    if opcao == '1':\n",
    "        deposito = float(input('Informe o valor do depósito: R$ '))\n",
    "        while deposito <= 0:\n",
    "            print('Valor inválido! Tente novamente.')\n",
    "            deposito = float(input('Informe o valor do depósito: R$ '))\n",
    "        else:\n",
    "            saldo += deposito\n",
    "            extrato += f'Depósito: R$ {deposito:.2f}\\n'\n",
    "            print('Depósito realizado com sucesso!\\n')\n",
    "\n",
    "    elif opcao == '2':\n",
    "        valor = float(input('Qual valor gostaria de sacar? R$ '))\n",
    "        if valor > saldo:\n",
    "            print('Operação falhou! O valor de saque excede o saldo disponível.')\n",
    "        elif n_saque >= limite_saque:\n",
    "            print('Operação falhou! Você excedeu o limite de saque diário.')\n",
    "        elif valor > limite:\n",
    "            print('Operação falhou! O valor de saque excede o limite.')\n",
    "        elif valor < saldo and valor > 0:\n",
    "            saldo -= valor\n",
    "            extrato += f'Saque: R$ {valor:.2f}\\n'\n",
    "            n_saque += 1\n",
    "            print('Aguarde... Realizando saque...')\n",
    "        else:\n",
    "            print('Operação falhou! O valor informado é inválido.')\n",
    "    \n",
    "    elif opcao == '3':\n",
    "        print(\"\\n================ EXTRATO ================\")\n",
    "        print(\"Não foram realizadas movimentações.\" if not extrato else extrato)\n",
    "        print(f\"\\nSaldo: R$ {saldo:.2f}\")\n",
    "        print(\"==========================================\")\n",
    "\n",
    "    elif opcao == '4':\n",
    "        print('Obrigado por usar nosso sistema, volte sempre!')\n",
    "        break\n",
    "    \n",
    "    else:\n",
    "        print('Opção inválida, tente novamente!')"
   ]
  }
 ],
 "metadata": {
  "kernelspec": {
   "display_name": "Python 3",
   "language": "python",
   "name": "python3"
  },
  "language_info": {
   "codemirror_mode": {
    "name": "ipython",
    "version": 3
   },
   "file_extension": ".py",
   "mimetype": "text/x-python",
   "name": "python",
   "nbconvert_exporter": "python",
   "pygments_lexer": "ipython3",
   "version": "3.12.1"
  }
 },
 "nbformat": 4,
 "nbformat_minor": 2
}
