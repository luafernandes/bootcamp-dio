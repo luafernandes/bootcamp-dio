{
 "cells": [
  {
   "cell_type": "markdown",
   "metadata": {},
   "source": [
    "### O que são IAs generativas?\n",
    "\n",
    "São sistemas capazes de criar, adaptar e aprimorar conteúdo de maneira autônoma.\n",
    "\n",
    "Um exemplo famoso de IA generativa é o modelo GPT, que se destaca por utilizar o processamento de linguagem natural.\n"
   ]
  },
  {
   "cell_type": "markdown",
   "metadata": {},
   "source": [
    "### Chatbots\n",
    "\n",
    "- ChatGPT\n",
    "- Bing\n",
    "- Bard"
   ]
  },
  {
   "cell_type": "markdown",
   "metadata": {},
   "source": [
    "### Geração de imagens\n",
    "\n",
    "- Bing\n",
    "- Leonardo Ai\n",
    "- Midjourney"
   ]
  },
  {
   "cell_type": "markdown",
   "metadata": {},
   "source": [
    "### Voz e Avatares Virtuais\n",
    "\n",
    "- ElevenLabs\n",
    "- D-ID\n",
    "- HeyGen"
   ]
  }
 ],
 "metadata": {
  "language_info": {
   "name": "python"
  }
 },
 "nbformat": 4,
 "nbformat_minor": 2
}
