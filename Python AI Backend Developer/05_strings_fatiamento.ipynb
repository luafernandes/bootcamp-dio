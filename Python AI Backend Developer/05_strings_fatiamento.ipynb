{
 "cells": [
  {
   "cell_type": "markdown",
   "metadata": {},
   "source": [
    "## Métodos úteis para strings"
   ]
  },
  {
   "cell_type": "markdown",
   "metadata": {},
   "source": [
    "### Maiúsculas, minúsculas e título"
   ]
  },
  {
   "cell_type": "code",
   "execution_count": 2,
   "metadata": {},
   "outputs": [],
   "source": [
    "# criando uma string\n",
    "curso = 'pYtHon'"
   ]
  },
  {
   "cell_type": "code",
   "execution_count": 3,
   "metadata": {},
   "outputs": [
    {
     "name": "stdout",
     "output_type": "stream",
     "text": [
      "PYTHON\n"
     ]
    }
   ],
   "source": [
    "# Maiúscula > método UPPER\n",
    "print(curso.upper())"
   ]
  },
  {
   "cell_type": "code",
   "execution_count": 4,
   "metadata": {},
   "outputs": [
    {
     "name": "stdout",
     "output_type": "stream",
     "text": [
      "python\n"
     ]
    }
   ],
   "source": [
    "# Minúscula > método LOWER\n",
    "print(curso.lower())"
   ]
  },
  {
   "cell_type": "code",
   "execution_count": 5,
   "metadata": {},
   "outputs": [
    {
     "name": "stdout",
     "output_type": "stream",
     "text": [
      "Python\n"
     ]
    }
   ],
   "source": [
    "# Primeira maiúscula > método TITLE\n",
    "print(curso.title())"
   ]
  },
  {
   "cell_type": "markdown",
   "metadata": {},
   "source": [
    "### Eliminando espaços em branco"
   ]
  },
  {
   "cell_type": "code",
   "execution_count": 6,
   "metadata": {},
   "outputs": [],
   "source": [
    "curso = '      Python '"
   ]
  },
  {
   "cell_type": "markdown",
   "metadata": {},
   "source": [
    "A função STRIP remove os espaçoes em branco da esquerda e da direita\n"
   ]
  },
  {
   "cell_type": "code",
   "execution_count": 7,
   "metadata": {},
   "outputs": [
    {
     "name": "stdout",
     "output_type": "stream",
     "text": [
      "Python\n"
     ]
    }
   ],
   "source": [
    "print(curso.strip())"
   ]
  },
  {
   "cell_type": "code",
   "execution_count": 8,
   "metadata": {},
   "outputs": [
    {
     "name": "stdout",
     "output_type": "stream",
     "text": [
      "Python \n"
     ]
    }
   ],
   "source": [
    "# Removendo apenas os espaços apenas da esquerda\n",
    "print(curso.lstrip())"
   ]
  },
  {
   "cell_type": "code",
   "execution_count": 9,
   "metadata": {},
   "outputs": [
    {
     "name": "stdout",
     "output_type": "stream",
     "text": [
      "      Python\n"
     ]
    }
   ],
   "source": [
    "# Removendo apenas os espaços apenas da direita\n",
    "print(curso.rstrip())"
   ]
  },
  {
   "cell_type": "markdown",
   "metadata": {},
   "source": [
    "### Junções e centralização"
   ]
  },
  {
   "cell_type": "code",
   "execution_count": 10,
   "metadata": {},
   "outputs": [],
   "source": [
    "curso = 'Python'"
   ]
  },
  {
   "cell_type": "code",
   "execution_count": 14,
   "metadata": {},
   "outputs": [
    {
     "name": "stdout",
     "output_type": "stream",
     "text": [
      "##Python##\n"
     ]
    }
   ],
   "source": [
    "print(curso.center(10,'#')) #center(número de caracteres que você quer ocupar, opcional(caracter que quer colocar nos espaços))"
   ]
  },
  {
   "cell_type": "code",
   "execution_count": 12,
   "metadata": {},
   "outputs": [
    {
     "name": "stdout",
     "output_type": "stream",
     "text": [
      "P.y.t.h.o.n\n"
     ]
    }
   ],
   "source": [
    "print('.'.join(curso))"
   ]
  },
  {
   "cell_type": "markdown",
   "metadata": {},
   "source": [
    "## Interpolação de variáveis\n",
    "\n",
    "Em Python temos 3 formas de interpolar variáveis em strings:\n",
    "\n",
    "- Usando % (não recomendada)\n",
    "    - %s > string\n",
    "    - %d > inteiros\n",
    "    - %f > float\n",
    "- Método `format`\n",
    "- Utilizando f strings"
   ]
  },
  {
   "cell_type": "code",
   "execution_count": 16,
   "metadata": {},
   "outputs": [
    {
     "name": "stdout",
     "output_type": "stream",
     "text": [
      "Olá, me chamo Luciana. Eu tenho 27 anos de idade, trabalho como Programadora e estou matriculada no curso de Python.\n"
     ]
    }
   ],
   "source": [
    "# Método antigo, não recomendado, usando %\n",
    "nome = 'Luciana'\n",
    "idade = 27\n",
    "profissao = 'Programadora'\n",
    "linguagem = 'Python'\n",
    "\n",
    "print('Olá, me chamo %s. Eu tenho %d anos de idade, trabalho como %s e estou matriculada no curso de %s.' % (nome, idade, profissao, linguagem))"
   ]
  },
  {
   "cell_type": "code",
   "execution_count": 18,
   "metadata": {},
   "outputs": [
    {
     "name": "stdout",
     "output_type": "stream",
     "text": [
      "Olá, me chamo Luciana. Eu tenho 27 anos de idade, trabalho como Programadora e estou matriculada no curso de Python.\n"
     ]
    }
   ],
   "source": [
    "# FORMAT seguindo a ordem\n",
    "nome = 'Luciana'\n",
    "idade = 27\n",
    "profissao = 'Programadora'\n",
    "linguagem = 'Python'\n",
    "\n",
    "print('Olá, me chamo {}. Eu tenho {} anos de idade, trabalho como {} e estou matriculada no curso de {}.'.format(nome, idade, profissao, linguagem))"
   ]
  },
  {
   "cell_type": "code",
   "execution_count": 19,
   "metadata": {},
   "outputs": [
    {
     "name": "stdout",
     "output_type": "stream",
     "text": [
      "Olá, me chamo Luciana. Eu tenho 27 anos de idade, trabalho como Programadora e estou matriculada no curso de Python.\n"
     ]
    }
   ],
   "source": [
    "# FORMAT sem seguir a ordem\n",
    "nome = 'Luciana'\n",
    "idade = 27\n",
    "profissao = 'Programadora'\n",
    "linguagem = 'Python'\n",
    "\n",
    "print('Olá, me chamo {3}. Eu tenho {2} anos de idade, trabalho como {1} e estou matriculada no curso de {0}.'.format(linguagem, profissao, idade, nome))"
   ]
  },
  {
   "cell_type": "code",
   "execution_count": 20,
   "metadata": {},
   "outputs": [
    {
     "name": "stdout",
     "output_type": "stream",
     "text": [
      "Olá, me chamo Luciana. Eu tenho 27 anos de idade, trabalho como Programadora e estou matriculada no curso de Python.\n"
     ]
    }
   ],
   "source": [
    "# f string\n",
    "nome = 'Luciana'\n",
    "idade = 27\n",
    "profissao = 'Programadora'\n",
    "linguagem = 'Python'\n",
    "\n",
    "print(f'Olá, me chamo {nome}. Eu tenho {idade} anos de idade, trabalho como {profissao} e estou matriculada no curso de {linguagem}.')"
   ]
  },
  {
   "cell_type": "markdown",
   "metadata": {},
   "source": [
    "Formatar strings com f-string"
   ]
  },
  {
   "cell_type": "code",
   "execution_count": 22,
   "metadata": {},
   "outputs": [
    {
     "name": "stdout",
     "output_type": "stream",
     "text": [
      "O valor de PI é 3.14\n"
     ]
    }
   ],
   "source": [
    "PI = 3.14159\n",
    "\n",
    "# Formatando o float com 2 casas após a vírgula\n",
    "print(f'O valor de PI é {PI:.2f}')"
   ]
  },
  {
   "cell_type": "code",
   "execution_count": 23,
   "metadata": {},
   "outputs": [
    {
     "name": "stdout",
     "output_type": "stream",
     "text": [
      "Valor de PI:       3.14\n"
     ]
    }
   ],
   "source": [
    "# Colocando espaços\n",
    "print(f'Valor de PI: {PI:10.2f}')"
   ]
  },
  {
   "cell_type": "markdown",
   "metadata": {},
   "source": [
    "## Fatiamento de string (slice)\n",
    "\n",
    "Utilizado para retornar substrings(partes da string original), informando início, fim e passo.\n",
    "\n",
    "`[start:stop[,step]]`"
   ]
  },
  {
   "cell_type": "code",
   "execution_count": 29,
   "metadata": {},
   "outputs": [
    {
     "data": {
      "text/plain": [
       "'A'"
      ]
     },
     "execution_count": 29,
     "metadata": {},
     "output_type": "execute_result"
    }
   ],
   "source": [
    "nome = 'Ana Letícia da Silva Prado'\n",
    "\n",
    "nome[0]"
   ]
  },
  {
   "cell_type": "code",
   "execution_count": 30,
   "metadata": {},
   "outputs": [
    {
     "data": {
      "text/plain": [
       "'Ana Letícia'"
      ]
     },
     "execution_count": 30,
     "metadata": {},
     "output_type": "execute_result"
    }
   ],
   "source": [
    "nome[:11]"
   ]
  },
  {
   "cell_type": "code",
   "execution_count": 31,
   "metadata": {},
   "outputs": [
    {
     "data": {
      "text/plain": [
       "'da Silva Prado'"
      ]
     },
     "execution_count": 31,
     "metadata": {},
     "output_type": "execute_result"
    }
   ],
   "source": [
    "nome[12:]"
   ]
  },
  {
   "cell_type": "code",
   "execution_count": 33,
   "metadata": {},
   "outputs": [
    {
     "data": {
      "text/plain": [
       "'Letícia'"
      ]
     },
     "execution_count": 33,
     "metadata": {},
     "output_type": "execute_result"
    }
   ],
   "source": [
    "nome[4:11]"
   ]
  },
  {
   "cell_type": "code",
   "execution_count": 34,
   "metadata": {},
   "outputs": [
    {
     "data": {
      "text/plain": [
       "'Ltca'"
      ]
     },
     "execution_count": 34,
     "metadata": {},
     "output_type": "execute_result"
    }
   ],
   "source": [
    "nome[4:11:2]"
   ]
  },
  {
   "cell_type": "code",
   "execution_count": 35,
   "metadata": {},
   "outputs": [
    {
     "data": {
      "text/plain": [
       "'Ana Letícia da Silva Prado'"
      ]
     },
     "execution_count": 35,
     "metadata": {},
     "output_type": "execute_result"
    }
   ],
   "source": [
    "nome[:]"
   ]
  },
  {
   "cell_type": "code",
   "execution_count": 38,
   "metadata": {},
   "outputs": [
    {
     "data": {
      "text/plain": [
       "'odarP avliS ad aicíteL anA'"
      ]
     },
     "execution_count": 38,
     "metadata": {},
     "output_type": "execute_result"
    }
   ],
   "source": [
    "nome[::-1]"
   ]
  },
  {
   "cell_type": "markdown",
   "metadata": {},
   "source": [
    "## String múltiplas linhas\n",
    "\n",
    "Definidas informando 3 aspas simples ou duplas durante a atribuição.\n",
    "\n",
    "Obs: os espaços serão considerados"
   ]
  },
  {
   "cell_type": "code",
   "execution_count": 41,
   "metadata": {},
   "outputs": [
    {
     "name": "stdout",
     "output_type": "stream",
     "text": [
      "\n",
      "Olá meu nome é Luciana.\n",
      "Eu estou aprendendo Python\n",
      "\n"
     ]
    }
   ],
   "source": [
    "nome = 'Luciana'\n",
    "mensagem = f'''\n",
    "Olá meu nome é {nome}.\n",
    "Eu estou aprendendo Python\n",
    "'''\n",
    "\n",
    "print(mensagem)"
   ]
  },
  {
   "cell_type": "code",
   "execution_count": 42,
   "metadata": {},
   "outputs": [
    {
     "name": "stdout",
     "output_type": "stream",
     "text": [
      "\n",
      "     Olá meu nome é Luciana.\n",
      "        Eu estou aprendendo Python\n",
      "    Essa mensagem tem vários recuos\n",
      "\n"
     ]
    }
   ],
   "source": [
    "nome = 'Luciana'\n",
    "mensagem = f'''\n",
    "     Olá meu nome é {nome}.\n",
    "        Eu estou aprendendo Python\n",
    "    Essa mensagem tem vários recuos\n",
    "'''\n",
    "\n",
    "print(mensagem)"
   ]
  },
  {
   "cell_type": "code",
   "execution_count": null,
   "metadata": {},
   "outputs": [],
   "source": []
  }
 ],
 "metadata": {
  "kernelspec": {
   "display_name": "Python 3",
   "language": "python",
   "name": "python3"
  },
  "language_info": {
   "codemirror_mode": {
    "name": "ipython",
    "version": 3
   },
   "file_extension": ".py",
   "mimetype": "text/x-python",
   "name": "python",
   "nbconvert_exporter": "python",
   "pygments_lexer": "ipython3",
   "version": "3.12.1"
  }
 },
 "nbformat": 4,
 "nbformat_minor": 2
}
