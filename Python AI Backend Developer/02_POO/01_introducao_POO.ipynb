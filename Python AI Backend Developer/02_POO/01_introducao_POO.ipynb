{
 "cells": [
  {
   "cell_type": "markdown",
   "metadata": {},
   "source": [
    "## Introdução à Programação Orientada a Objetos (POO) com Python"
   ]
  },
  {
   "cell_type": "markdown",
   "metadata": {},
   "source": [
    "### Paradigmas de programação\n",
    "\n",
    "Um paradigma de programação é um estilo de programação, e não a linguagem em si. É a forma como você soluciona os problemas através do código. \n",
    "\n",
    "**Alguns paradigmas:**\n",
    "- Imperativo ou procedural\n",
    "- Funcional\n",
    "- Orientado a eventos\n",
    "- Orientada a objetos"
   ]
  },
  {
   "cell_type": "markdown",
   "metadata": {},
   "source": [
    "### Programação orientada a objetos\n",
    "\n",
    "O paradigma de programação orientada a objetos estrutura o código abstraindo problemas em objetos do mundo real, facilitando o entendimento do código e tornando-o mais modular e extensível. Os dois conceitos chaves para aprender POO são: classes e objetos.\n",
    "\n",
    "É um dos paradigmas mais utilizados atualmente."
   ]
  },
  {
   "cell_type": "markdown",
   "metadata": {},
   "source": [
    "### Classes e Objetos\n",
    "\n",
    "Uma classe define as características e comportamentos de um objeto, porém não conseguimos usá-las diretamente. Já os objetos podemos usá-los e eles possuem as características e comportamentos que foram definidos nas classes."
   ]
  },
  {
   "cell_type": "markdown",
   "metadata": {},
   "source": [
    "Exemplo de classe"
   ]
  },
  {
   "cell_type": "code",
   "execution_count": 1,
   "metadata": {},
   "outputs": [],
   "source": [
    "class Cachorro: #criando uma classe denominada cachorro\n",
    "    def __init__(self, nome, cor, acordado=True):\n",
    "        # Características do cachorro\n",
    "        self.nome = nome\n",
    "        self.cor = cor\n",
    "        self.acordado = acordado\n",
    "    # Definindo comportamentos para o meu cachorro\n",
    "    # Comportamento latir\n",
    "    def latir(self):\n",
    "        print('Auau')\n",
    "    # Comportamento dormir\n",
    "    def dormir(self):\n",
    "        self.acordado = False\n",
    "        print('Zzzzzz...')"
   ]
  },
  {
   "cell_type": "markdown",
   "metadata": {},
   "source": [
    "Exemplo de objeto"
   ]
  },
  {
   "cell_type": "code",
   "execution_count": 2,
   "metadata": {},
   "outputs": [],
   "source": [
    "# Criando a instância de dois objetos da classe cachorro\n",
    "cao_1 = Cachorro('chappie', 'amarelo', False) # chappie = nome, amarelo = cor, está dormindo\n",
    "cao_2 = Cachorro('Aladin', 'branco e preto') # Aladin = nome, branco e preto = cor, está acordado"
   ]
  },
  {
   "cell_type": "code",
   "execution_count": 3,
   "metadata": {},
   "outputs": [
    {
     "name": "stdout",
     "output_type": "stream",
     "text": [
      "Auau\n"
     ]
    }
   ],
   "source": [
    "cao_1.latir()"
   ]
  },
  {
   "cell_type": "code",
   "execution_count": 4,
   "metadata": {},
   "outputs": [
    {
     "name": "stdout",
     "output_type": "stream",
     "text": [
      "True\n"
     ]
    }
   ],
   "source": [
    "print(cao_2.acordado)"
   ]
  },
  {
   "cell_type": "code",
   "execution_count": 5,
   "metadata": {},
   "outputs": [
    {
     "name": "stdout",
     "output_type": "stream",
     "text": [
      "Zzzzzz...\n"
     ]
    }
   ],
   "source": [
    "# Setei o objeto para dormir\n",
    "cao_2.dormir()"
   ]
  },
  {
   "cell_type": "code",
   "execution_count": 6,
   "metadata": {},
   "outputs": [
    {
     "name": "stdout",
     "output_type": "stream",
     "text": [
      "False\n"
     ]
    }
   ],
   "source": [
    "print(cao_2.acordado)"
   ]
  },
  {
   "cell_type": "markdown",
   "metadata": {},
   "source": [
    "### Criando o primeiro programa com POO\n",
    "\n",
    "João tem uma bicicletaria e gostaria de registrar as vendas de suas bicicletas. Crie um programa onde João informe: cor, modelo, ano e valor da bicicleta vendida. Como comportamento, uma bicicleta pode buzinar, parar e correr."
   ]
  },
  {
   "cell_type": "code",
   "execution_count": 7,
   "metadata": {},
   "outputs": [],
   "source": [
    "from time import sleep\n",
    "# Criando a classe\n",
    "class Bicicleta:\n",
    "    # Construtor de uma classe\n",
    "    def __init__(self, cor, modelo, ano, valor):\n",
    "    # Definindo as características da bicicleta\n",
    "        # self é uma referência explícita para o objeto, ou seja, é a instância do objeto que foi passado\n",
    "        self.cor = cor\n",
    "        self.modelo = modelo\n",
    "        self.ano = ano\n",
    "        self.valor = valor\n",
    "        \n",
    "    # Criando os comportamentos\n",
    "        # Comportamentos são definidos por métodos\n",
    "        # def nome_método(self):\n",
    "    def buzinar(self):\n",
    "        print('Plin Plin...')\n",
    "    \n",
    "    def parar(self):\n",
    "        print('Parando bicicleta...')\n",
    "        sleep(1)\n",
    "        print('Bicicleta parada!')\n",
    "\n",
    "    def correr(self):\n",
    "        print('Vrummmm...')\n",
    "    \n",
    "    def get_cor(self):\n",
    "        return self.cor\n",
    "    \n",
    "    def __str__(self):\n",
    "        return f'{self.__class__.__name__}: {', '.join([f'{chave} = {valor}' for chave, valor in self.__dict__.items()])}'"
   ]
  },
  {
   "cell_type": "code",
   "execution_count": 8,
   "metadata": {},
   "outputs": [],
   "source": [
    "# Instanciando uma bicicleta -> variável = classe(características)\n",
    "b1 = Bicicleta('vermelha', 'caloi', 2022, 600)"
   ]
  },
  {
   "cell_type": "code",
   "execution_count": 9,
   "metadata": {},
   "outputs": [
    {
     "name": "stdout",
     "output_type": "stream",
     "text": [
      "Plin Plin...\n"
     ]
    }
   ],
   "source": [
    "# Chamando os métodos\n",
    "b1.buzinar()"
   ]
  },
  {
   "cell_type": "code",
   "execution_count": 10,
   "metadata": {},
   "outputs": [
    {
     "name": "stdout",
     "output_type": "stream",
     "text": [
      "Vrummmm...\n"
     ]
    }
   ],
   "source": [
    "b1.correr()"
   ]
  },
  {
   "cell_type": "code",
   "execution_count": 11,
   "metadata": {},
   "outputs": [
    {
     "name": "stdout",
     "output_type": "stream",
     "text": [
      "Parando bicicleta...\n",
      "Bicicleta parada!\n"
     ]
    }
   ],
   "source": [
    "b1.parar()"
   ]
  },
  {
   "cell_type": "code",
   "execution_count": 12,
   "metadata": {},
   "outputs": [],
   "source": [
    "b2 = Bicicleta('verde', 'monark', 2000, 189)"
   ]
  },
  {
   "cell_type": "code",
   "execution_count": 13,
   "metadata": {},
   "outputs": [
    {
     "name": "stdout",
     "output_type": "stream",
     "text": [
      "Plin Plin...\n"
     ]
    }
   ],
   "source": [
    "Bicicleta.buzinar(b2) # == b2.buzinar()"
   ]
  },
  {
   "cell_type": "code",
   "execution_count": 14,
   "metadata": {},
   "outputs": [
    {
     "data": {
      "text/plain": [
       "'verde'"
      ]
     },
     "execution_count": 14,
     "metadata": {},
     "output_type": "execute_result"
    }
   ],
   "source": [
    "b2.get_cor()"
   ]
  },
  {
   "cell_type": "markdown",
   "metadata": {},
   "source": [
    "**Acessando atributos da classe**"
   ]
  },
  {
   "cell_type": "code",
   "execution_count": 15,
   "metadata": {},
   "outputs": [
    {
     "name": "stdout",
     "output_type": "stream",
     "text": [
      "vermelha caloi 2022 600\n"
     ]
    }
   ],
   "source": [
    "print(b1.cor, b1.modelo, b1.ano, b1.valor)"
   ]
  },
  {
   "cell_type": "markdown",
   "metadata": {},
   "source": [
    "**Exibindo a instância**"
   ]
  },
  {
   "cell_type": "markdown",
   "metadata": {},
   "source": [
    "Para criarmos um método para enxergar os valores dentro de um objeto e revisar para saber se ele foi instanciado corretamente, será preciso criar um novo método dentro da classe, denominado `def __str__(self):`.\n",
    "\n",
    "Com ele criado, ao rodarmos a célula abaixo, teremos a classe com as instâncias"
   ]
  },
  {
   "cell_type": "code",
   "execution_count": 16,
   "metadata": {},
   "outputs": [
    {
     "name": "stdout",
     "output_type": "stream",
     "text": [
      "Bicicleta: cor = verde, modelo = monark, ano = 2000, valor = 189\n"
     ]
    }
   ],
   "source": [
    "print(b2)"
   ]
  },
  {
   "cell_type": "markdown",
   "metadata": {},
   "source": [
    "### **Construtores e Destrutores**\n",
    "Conhecendo os métodos `__init__` e `__del__`"
   ]
  },
  {
   "cell_type": "markdown",
   "metadata": {},
   "source": [
    "**Método construtor**\n",
    "\n",
    "O método construtor sempre é executado quando uma nova instância da classe é criada. Nesse método inicializamos o estado do nosso objeto. Para declarar o método construtor da classe, criamos um método com o nome `__init__`"
   ]
  },
  {
   "cell_type": "markdown",
   "metadata": {},
   "source": [
    "**Método destrutor**\n",
    "\n",
    "O método destrutor sempre é executado quando uma instância (objeto) é destruída. Destrutores em Python não são tão necessários quanto em C++ porque o Python tem um coletor de lixo que lida com o gerenciamento de memória automática. Para declarar o método destrutor da classe, criamos um método com o nome `__del__`"
   ]
  },
  {
   "cell_type": "code",
   "execution_count": 25,
   "metadata": {},
   "outputs": [],
   "source": [
    "# Exemplo\n",
    "class Cachorro:\n",
    "    def __del__(self):\n",
    "        print('Destruindo a instância')"
   ]
  },
  {
   "cell_type": "code",
   "execution_count": 27,
   "metadata": {},
   "outputs": [
    {
     "name": "stdout",
     "output_type": "stream",
     "text": [
      "Destruindo a instância\n"
     ]
    },
    {
     "data": {
      "text/plain": [
       "<__main__.Cachorro at 0x1f23d4fcb60>"
      ]
     },
     "execution_count": 27,
     "metadata": {},
     "output_type": "execute_result"
    }
   ],
   "source": [
    "c = Cachorro()\n",
    "c"
   ]
  },
  {
   "cell_type": "code",
   "execution_count": 30,
   "metadata": {},
   "outputs": [
    {
     "ename": "NameError",
     "evalue": "name 'c' is not defined",
     "output_type": "error",
     "traceback": [
      "\u001b[1;31m---------------------------------------------------------------------------\u001b[0m",
      "\u001b[1;31mNameError\u001b[0m                                 Traceback (most recent call last)",
      "Cell \u001b[1;32mIn[30], line 1\u001b[0m\n\u001b[1;32m----> 1\u001b[0m \u001b[38;5;28;01mdel\u001b[39;00m \u001b[43mc\u001b[49m\n\u001b[0;32m      2\u001b[0m c\n",
      "\u001b[1;31mNameError\u001b[0m: name 'c' is not defined"
     ]
    }
   ],
   "source": [
    "del c\n",
    "c"
   ]
  },
  {
   "cell_type": "markdown",
   "metadata": {},
   "source": [
    "*Vocabulário:*\n",
    "\n",
    "- `def __init__(self)` é o método construtor de uma classe. Sendo que:\n",
    "    - *def* é utilizado para criar uma função ou um método.\n",
    "    - *_ _init_ _* é um método especial usado para inicializar novos objetos de uma classe, definindo os atributos iniciais do objeto.\n",
    "    - *self* é um nome de convenção que faz referência à instância do objeto, usada para acessar variáveis e métodos associados a essa instância.\n",
    "    - **Métodos** são funções que estão dentro de uma classe."
   ]
  }
 ],
 "metadata": {
  "kernelspec": {
   "display_name": "Python 3",
   "language": "python",
   "name": "python3"
  },
  "language_info": {
   "codemirror_mode": {
    "name": "ipython",
    "version": 3
   },
   "file_extension": ".py",
   "mimetype": "text/x-python",
   "name": "python",
   "nbconvert_exporter": "python",
   "pygments_lexer": "ipython3",
   "version": "3.12.1"
  }
 },
 "nbformat": 4,
 "nbformat_minor": 2
}
