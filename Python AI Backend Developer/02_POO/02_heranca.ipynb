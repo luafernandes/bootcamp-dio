{
 "cells": [
  {
   "cell_type": "markdown",
   "metadata": {},
   "source": [
    "## Conceito de Herança com Python"
   ]
  },
  {
   "cell_type": "markdown",
   "metadata": {},
   "source": [
    "### O que é herança?\n",
    "Em programação, herança é a capacidade de uma classe filha derivar ou herdar as características e comportamentos da classe pai (base).\n",
    "\n",
    "### Benefícios da herança:\n",
    "- Representa bem os relacionamentos do mundo real.\n",
    "- Fornece reutilização de código, não precisamos escrever o mesmo código repetidademente. Além disso, permite adicionar mais recursos a uma classe sem modificá-la.\n",
    "- É de natureza transitiva, o que significa que, se a classe B herdar a classe A, todas as subclasses de B herdarão automaticamente da classe A."
   ]
  },
  {
   "cell_type": "markdown",
   "metadata": {},
   "source": [
    "### Herança simples\n",
    "Quando uma classe filha herda apenas uma classe pai."
   ]
  },
  {
   "cell_type": "code",
   "execution_count": 4,
   "metadata": {},
   "outputs": [],
   "source": [
    "# Sintaxe da herança\n",
    "class A:\n",
    "    pass\n",
    "\n",
    "class B(A): #classe B é filha da classe A\n",
    "    pass"
   ]
  },
  {
   "cell_type": "code",
   "execution_count": 41,
   "metadata": {},
   "outputs": [],
   "source": [
    "# Exemplo\n",
    "\n",
    "class Veiculo:\n",
    "    def __init__(self, cor, placa, numero_rodas):\n",
    "        self.cor = cor\n",
    "        self.placa = placa\n",
    "        self.numero_rodas = numero_rodas\n",
    "\n",
    "    def ligar_motor(self):\n",
    "        print('Ligando o motor...')\n",
    "\n",
    "    def __str__(self):\n",
    "        return f'{self.__class__.__name__}: {', '.join([f'{chave} = {valor}' for chave, valor in self.__dict__.items()])}'\n",
    "\n",
    "class Motocicleta(Veiculo):\n",
    "    pass\n",
    "\n",
    "class Carro(Veiculo):\n",
    "    pass\n",
    "\n",
    "class Caminhao(Veiculo):\n",
    "    def __init__(self, cor, placa, numero_rodas, carregado):\n",
    "        super().__init__(cor, placa, numero_rodas) #super chama a implementação da classe pai\n",
    "        self.carregado = carregado\n",
    "    def esta_carregado(self):\n",
    "        print(f'{'Sim' if self.carregado else 'não'}, estou carregado')\n",
    "    pass"
   ]
  },
  {
   "cell_type": "code",
   "execution_count": 42,
   "metadata": {},
   "outputs": [
    {
     "name": "stdout",
     "output_type": "stream",
     "text": [
      "Ligando o motor...\n"
     ]
    }
   ],
   "source": [
    "moto = Motocicleta('preta', 'ABC-1234', 2)\n",
    "moto.ligar_motor()"
   ]
  },
  {
   "cell_type": "code",
   "execution_count": 14,
   "metadata": {},
   "outputs": [
    {
     "name": "stdout",
     "output_type": "stream",
     "text": [
      "Ligando o motor...\n"
     ]
    }
   ],
   "source": [
    "carro = Carro('branco', 'XDE-4008', 4)\n",
    "carro.ligar_motor()"
   ]
  },
  {
   "cell_type": "code",
   "execution_count": 43,
   "metadata": {},
   "outputs": [
    {
     "name": "stdout",
     "output_type": "stream",
     "text": [
      "Ligando o motor...\n"
     ]
    }
   ],
   "source": [
    "caminhao = Caminhao('roxo', 'GFD-4578', 8, True)\n",
    "caminhao.ligar_motor()"
   ]
  },
  {
   "cell_type": "code",
   "execution_count": 44,
   "metadata": {},
   "outputs": [
    {
     "name": "stdout",
     "output_type": "stream",
     "text": [
      "Sim, estou carregado\n"
     ]
    }
   ],
   "source": [
    "caminhao.esta_carregado()"
   ]
  },
  {
   "cell_type": "code",
   "execution_count": 40,
   "metadata": {},
   "outputs": [
    {
     "ename": "AttributeError",
     "evalue": "'Carro' object has no attribute 'esta_carregado'",
     "output_type": "error",
     "traceback": [
      "\u001b[1;31m---------------------------------------------------------------------------\u001b[0m",
      "\u001b[1;31mAttributeError\u001b[0m                            Traceback (most recent call last)",
      "Cell \u001b[1;32mIn[40], line 1\u001b[0m\n\u001b[1;32m----> 1\u001b[0m \u001b[43mcarro\u001b[49m\u001b[38;5;241;43m.\u001b[39;49m\u001b[43mesta_carregado\u001b[49m()\n",
      "\u001b[1;31mAttributeError\u001b[0m: 'Carro' object has no attribute 'esta_carregado'"
     ]
    }
   ],
   "source": [
    "carro.esta_carregado()"
   ]
  },
  {
   "cell_type": "markdown",
   "metadata": {},
   "source": [
    "### Herança múltipla\n",
    "Quando uma classe filha herda várias classes pai.\n",
    "\n",
    "Obs: não são todas as linguagens que implementam uma herança múltipla."
   ]
  },
  {
   "cell_type": "code",
   "execution_count": 3,
   "metadata": {},
   "outputs": [],
   "source": [
    "# Sintaxe da herança\n",
    "class A:\n",
    "    pass\n",
    "\n",
    "class B:\n",
    "    pass\n",
    "\n",
    "class C(A,B):\n",
    "    pass"
   ]
  },
  {
   "cell_type": "markdown",
   "metadata": {},
   "source": []
  }
 ],
 "metadata": {
  "kernelspec": {
   "display_name": "Python 3",
   "language": "python",
   "name": "python3"
  },
  "language_info": {
   "codemirror_mode": {
    "name": "ipython",
    "version": 3
   },
   "file_extension": ".py",
   "mimetype": "text/x-python",
   "name": "python",
   "nbconvert_exporter": "python",
   "pygments_lexer": "ipython3",
   "version": "3.12.1"
  }
 },
 "nbformat": 4,
 "nbformat_minor": 2
}
