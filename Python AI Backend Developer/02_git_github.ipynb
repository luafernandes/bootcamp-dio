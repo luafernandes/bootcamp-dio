{
 "cells": [
  {
   "cell_type": "markdown",
   "metadata": {},
   "source": [
    "## O que é Versionamento de Código?\n",
    "Gerar uma nova versão a cada alteração do código. O versionamento de código permite que desenvolvedores trabalhem de forma colaborativa em um projeto, mantendo um histórico completo de todas as alterações feitas no código.\n",
    "\n",
    "### Sistema de controle de versão\n",
    "- Registra o histórico de atualizações de um arquivo\n",
    "- Gerencia quais foram as alterações, a data, o autor, etc\n",
    "- Contribui para a organização, o controle e a segurança\n",
    "\n",
    "### Tipos de sistema de contro de versão\n",
    "- VCS Centralizado (CVCS) > ex: CVS, Subversion\n",
    "- VCS Distribuído (DVCS) > ex: Git, Mercurial\n"
   ]
  },
  {
   "cell_type": "markdown",
   "metadata": {},
   "source": [
    "## VCS Centralizado (CVCS)\n",
    "Existe apenas um servidor que contém todos os arquivos, então a área de trabalho fica conectada a um servidor central.\n",
    "\n",
    "## VCS Distribuído (DVCS)\n",
    "- Clona o repositório completo, o que inclui o histórico de versões\n",
    "- Cada clone funciona como um backup\n",
    "- Possibilita um fluxo de trabalho flexível\n",
    "- Possibilita trabalhar sem conexão à rede\n",
    "\n",
    "<hr/>\n"
   ]
  },
  {
   "cell_type": "markdown",
   "metadata": {},
   "source": [
    "## Git e GitHub"
   ]
  },
  {
   "cell_type": "markdown",
   "metadata": {},
   "source": [
    "### Configurando o Git\n",
    "`$ git config --list`\n",
    "\n",
    "- Configurando o nome de usuário e e-mail(globalmente):\n",
    "`$ git config --global user.name \"Nome Sobrenome\"`\n",
    "`$ git confit --global user.email seuemail@email.com`\n",
    "\n",
    "- Configurando o nome da Branch padrão:\n",
    "`$ git config --global init.defaultBranch maim`\n",
    "\n",
    "### Armazenando credenciais\n",
    "É possível armazenar suas credenciais para reduzir o número de vezes que você deve digitar seu nome de usuário ou senha:\n",
    "\n",
    "- Salvando no cache:\n",
    "`$ git config --global credential.helper cache`\n",
    "- Salvando permanentemente:\n",
    "`$ git config --global credential.helper store`"
   ]
  },
  {
   "cell_type": "markdown",
   "metadata": {},
   "source": [
    "### Criando um repositório local\n",
    "Acesse a pasta que deseja transformar em um repositório Git pelo terminal ou clique no atalho em \"Git Bash Here\":\n",
    "\n",
    "- Inicialize um repositório Git no diretório escolhido:\n",
    "`$ git init`\n",
    "\n",
    "- Conecte o repositório local com o repositório remoto:\n",
    "`$ git remote add origin https://github.com/username/nome-do-repositorio.git`"
   ]
  },
  {
   "cell_type": "markdown",
   "metadata": {},
   "source": [
    "### Clonando um repositório\n",
    "`$ git clone https://github.com/username/nome-do-repositorio`"
   ]
  },
  {
   "cell_type": "markdown",
   "metadata": {},
   "source": [
    "### Salvando alterações no repositório local\n",
    "#### Criando um commit:\n",
    "- Adicione o conteúdo que deseja inserir no commit:\n",
    "`$ git add`\n",
    "- Crie um commit e adicione uma mensagem descritiva:\n",
    "`$ git commit -m \"mensagem\"`\n",
    "\n",
    "### Desfazendo alterações no repositório local\n",
    "- Alterar a mensagem do último commit: `$ git commit --amend`\n",
    "- Alterando a mensagem sem abrir o editor: `$ git commit --amend -m\"nova mensagem\"`\n",
    "- Desfazer um commit:\n",
    "`$ git reset`\n",
    "`$ git reset --soft`\n",
    "`$ git reset --mixed`\n",
    "`$ git reset --hard`"
   ]
  },
  {
   "cell_type": "markdown",
   "metadata": {},
   "source": [
    "### Enviando alterações para o repositório remoto\n",
    "- Enviando as alterações do repositório local para o remoto: `$ git push`\n",
    "- Trazendo as alterações do repositório remoto para o local: `$ git pull`"
   ]
  },
  {
   "cell_type": "markdown",
   "metadata": {},
   "source": [
    "### Trabalhando com Branches"
   ]
  },
  {
   "cell_type": "markdown",
   "metadata": {},
   "source": [
    "**O que é uma Branch?**\n",
    "\n",
    "Uma Branch é uma ramificação do seu projeto, ela representa uma versão específica do código-fonte do seu projeto. Uma branch é uma referência móvel para um commit, o que significa que ela avança conforme novos commits são adicionados à história do projeto.\n",
    "\n",
    "As branches permitem que equipes de desenvolvimento colaborem de forma eficiente em projetos complexos, facilitando o desenvolvimento paralelo, a experimentação e a manutenção do código. Elas também fornecem um mecanismo para rastrear e gerenciar alterações ao longo do tempo."
   ]
  },
  {
   "cell_type": "markdown",
   "metadata": {},
   "source": [
    "`$ git branch`\n",
    "\n",
    "- Trocar de branch e criar uma nova: `$ git checkout -b nova-branch`\n",
    "- Deletar uma branch: `$ git branch -d nome-branch`\n",
    "- Ver o último commit de cada branch: `$ git branch -v`"
   ]
  },
  {
   "cell_type": "markdown",
   "metadata": {},
   "source": [
    "### Fluxo Básico no Git\n",
    "\n",
    "- Inicializar um novo repositório local: `git init` > inicializa um novo repositório Git em um diretório existente.\n",
    "- Clonar um repositório remoto: `git clone` > clona um repositório Git existente para um novo diretório (pasta) local.\n",
    "- Salvar uma nova versão: `git commit` > grava alterações no repositório\n",
    "- Atualizar o repositório a partir do repositório remoto: `git pull` > \"puxa\" as alterações do repositório remoto para o local (busca e mescla)\n",
    "- Enviar a sua versão para o repositório remoto: `git push` > \"empurra\" as alterações do repositório local para o remoto\n"
   ]
  },
  {
   "cell_type": "markdown",
   "metadata": {},
   "source": [
    "### Outros comandos:\n",
    "- Verificar o status do repositório local: `git status`\n",
    "- Adicionar um arquivo na àrea de preparação: `git add`\n",
    "- Fazendo o commit dentro do terminal: `git commit -m\"mensagem do commit\"`\n",
    "- Visualizar o histórico de commits: `git log`\n",
    "- Criar uma nova branch: `git checkout -b <nome_da_branch>`\n",
    "- Alternar para uma branch existente: `git checkout <nome_da_branch>`\n",
    "- Mesclar uma branch com outra branch atual: `git merge <nome_da_outra_branch>`\n"
   ]
  },
  {
   "cell_type": "markdown",
   "metadata": {},
   "source": [
    "Obs: o Git não reconhece um diretório vazio, então normalmente é criado um arquivo chamado `.gitkeep` dentro do diretório para que o Git o reconheça e o inclua no controle de versão. Por exemplo, se você tem um diretório chamado imagens que inicialmente está vazio, mas você quer mantê-lo no repositório Git para futuros arquivos de imagens, você pode adicionar um arquivo .gitkeep dentro desse diretório."
   ]
  },
  {
   "cell_type": "markdown",
   "metadata": {},
   "source": [
    "### Comandos para o terminal:\n",
    "- Criando um diretório: `mkdir nome_diretorio`\n",
    "- Criar arquivo vazio: `touch nome_arquivo.extensao`"
   ]
  }
 ],
 "metadata": {
  "kernelspec": {
   "display_name": "Python 3",
   "language": "python",
   "name": "python3"
  },
  "language_info": {
   "name": "python",
   "version": "3.12.1"
  }
 },
 "nbformat": 4,
 "nbformat_minor": 2
}
