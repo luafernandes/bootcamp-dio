{
 "cells": [
  {
   "cell_type": "markdown",
   "metadata": {},
   "source": [
    "## Dominando funções em Python"
   ]
  },
  {
   "cell_type": "markdown",
   "metadata": {},
   "source": [
    "### O que são funções?\n",
    "\n",
    "É um bloco de código identificado por um nome e pode receber uma lista de parâmetros, que podem ou não ter valores padrões.\n",
    "\n",
    "Usar funções torna o código mais legível e possibilita o reaproveitamento de código. Programar baseado em funções, é o mesmo que dizer que estamos programando de maneira estruturada.\n",
    "\n",
    "Exemplos:"
   ]
  },
  {
   "cell_type": "code",
   "execution_count": 12,
   "metadata": {},
   "outputs": [],
   "source": [
    "# Declarando as funções\n",
    "def exibir_mensagem():\n",
    "    print('Olá mundo!')\n",
    "\n",
    "def exibir_mensagem_2(nome):\n",
    "    print(f'Seja bem vindo {nome}!')\n",
    "\n",
    "def exibir_mensagem_3(nome='Anônimo'):\n",
    "    print(f'Seja bem vindo {nome}')"
   ]
  },
  {
   "cell_type": "code",
   "execution_count": 13,
   "metadata": {},
   "outputs": [
    {
     "name": "stdout",
     "output_type": "stream",
     "text": [
      "Olá mundo!\n"
     ]
    }
   ],
   "source": [
    "# Chamando as funções\n",
    "exibir_mensagem()"
   ]
  },
  {
   "cell_type": "code",
   "execution_count": 15,
   "metadata": {},
   "outputs": [
    {
     "ename": "TypeError",
     "evalue": "exibir_mensagem() got an unexpected keyword argument 'nome'",
     "output_type": "error",
     "traceback": [
      "\u001b[1;31m---------------------------------------------------------------------------\u001b[0m",
      "\u001b[1;31mTypeError\u001b[0m                                 Traceback (most recent call last)",
      "Cell \u001b[1;32mIn[15], line 1\u001b[0m\n\u001b[1;32m----> 1\u001b[0m \u001b[43mexibir_mensagem\u001b[49m\u001b[43m(\u001b[49m\u001b[43mnome\u001b[49m\u001b[38;5;241;43m=\u001b[39;49m\u001b[38;5;124;43m'\u001b[39;49m\u001b[38;5;124;43mLuciana\u001b[39;49m\u001b[38;5;124;43m'\u001b[39;49m\u001b[43m)\u001b[49m\n",
      "\u001b[1;31mTypeError\u001b[0m: exibir_mensagem() got an unexpected keyword argument 'nome'"
     ]
    }
   ],
   "source": [
    "exibir_mensagem(nome='Luciana')"
   ]
  },
  {
   "cell_type": "code",
   "execution_count": 14,
   "metadata": {},
   "outputs": [
    {
     "ename": "TypeError",
     "evalue": "exibir_mensagem_2() missing 1 required positional argument: 'nome'",
     "output_type": "error",
     "traceback": [
      "\u001b[1;31m---------------------------------------------------------------------------\u001b[0m",
      "\u001b[1;31mTypeError\u001b[0m                                 Traceback (most recent call last)",
      "Cell \u001b[1;32mIn[14], line 1\u001b[0m\n\u001b[1;32m----> 1\u001b[0m \u001b[43mexibir_mensagem_2\u001b[49m\u001b[43m(\u001b[49m\u001b[43m)\u001b[49m\n",
      "\u001b[1;31mTypeError\u001b[0m: exibir_mensagem_2() missing 1 required positional argument: 'nome'"
     ]
    }
   ],
   "source": [
    "exibir_mensagem_2()"
   ]
  },
  {
   "cell_type": "code",
   "execution_count": 5,
   "metadata": {},
   "outputs": [
    {
     "name": "stdout",
     "output_type": "stream",
     "text": [
      "Seja bem vindo Luciana!\n"
     ]
    }
   ],
   "source": [
    "exibir_mensagem_2(nome='Luciana')"
   ]
  },
  {
   "cell_type": "code",
   "execution_count": 9,
   "metadata": {},
   "outputs": [
    {
     "name": "stdout",
     "output_type": "stream",
     "text": [
      "Seja bem vindo Anônimo\n"
     ]
    }
   ],
   "source": [
    "exibir_mensagem_3()"
   ]
  },
  {
   "cell_type": "code",
   "execution_count": 10,
   "metadata": {},
   "outputs": [
    {
     "name": "stdout",
     "output_type": "stream",
     "text": [
      "Seja bem vindo Ana\n"
     ]
    }
   ],
   "source": [
    "exibir_mensagem_3(nome='Ana')"
   ]
  },
  {
   "cell_type": "markdown",
   "metadata": {},
   "source": [
    "### Retornando valores\n",
    "\n",
    "Para retornar um valor, utilizamos a palavra reservada `return`. Por padrão, toda função em Python retorna **None**.\n",
    "\n",
    "Exemplos:"
   ]
  },
  {
   "cell_type": "code",
   "execution_count": 17,
   "metadata": {},
   "outputs": [],
   "source": [
    "def calcular_total(numeros):\n",
    "    return sum(numeros)\n",
    "\n",
    "def retorna_antecessor_sucessor(numero):\n",
    "    antecessor = numero + 1\n",
    "    sucessor = numero - 1\n",
    "    return antecessor, sucessor"
   ]
  },
  {
   "cell_type": "code",
   "execution_count": 18,
   "metadata": {},
   "outputs": [
    {
     "data": {
      "text/plain": [
       "30"
      ]
     },
     "execution_count": 18,
     "metadata": {},
     "output_type": "execute_result"
    }
   ],
   "source": [
    "calcular_total([10, 15, 2, 3])"
   ]
  },
  {
   "cell_type": "code",
   "execution_count": 19,
   "metadata": {},
   "outputs": [
    {
     "data": {
      "text/plain": [
       "(8, 6)"
      ]
     },
     "execution_count": 19,
     "metadata": {},
     "output_type": "execute_result"
    }
   ],
   "source": [
    "retorna_antecessor_sucessor(7)"
   ]
  },
  {
   "cell_type": "markdown",
   "metadata": {},
   "source": [
    "### Argumentos nomeados\n",
    "\n",
    "Funções também podem ser chamadas usando argumentos nomeados da forma **chave=valor**"
   ]
  },
  {
   "cell_type": "code",
   "execution_count": 20,
   "metadata": {},
   "outputs": [],
   "source": [
    "def salvar_carro(marca, modelo, ano, placa):\n",
    "    # Salva carro no banco de dados...\n",
    "    print(f'Carro inserido com sucesso! {marca}/{modelo}/{ano}/{placa}')"
   ]
  },
  {
   "cell_type": "code",
   "execution_count": 21,
   "metadata": {},
   "outputs": [
    {
     "name": "stdout",
     "output_type": "stream",
     "text": [
      "Carro inserido com sucesso! Fiat/Palio/1999/ABC-1234\n"
     ]
    }
   ],
   "source": [
    "salvar_carro('Fiat', 'Palio', 1999, 'ABC-1234')"
   ]
  },
  {
   "cell_type": "code",
   "execution_count": 22,
   "metadata": {},
   "outputs": [
    {
     "name": "stdout",
     "output_type": "stream",
     "text": [
      "Carro inserido com sucesso! Fiat/Palio/1999/ABC-1234\n"
     ]
    }
   ],
   "source": [
    "salvar_carro(marca='Fiat', modelo='Palio', ano=1999, placa='ABC-1234')"
   ]
  },
  {
   "cell_type": "code",
   "execution_count": 23,
   "metadata": {},
   "outputs": [
    {
     "name": "stdout",
     "output_type": "stream",
     "text": [
      "Carro inserido com sucesso! Fiat/Palio/1999/ABC-1234\n"
     ]
    }
   ],
   "source": [
    "salvar_carro(**{'marca':'Fiat', 'modelo':'Palio', 'ano':1999, 'placa':'ABC-1234'})"
   ]
  },
  {
   "cell_type": "markdown",
   "metadata": {},
   "source": [
    "### Args e Kwargs\n",
    "\n",
    "Podemos combinar parâmetros obrigatórios com args e kwargs. Quando esses são definidos(*args e **kwargs), o método recebe os valores como tupla e dicionário, respectivamente."
   ]
  },
  {
   "cell_type": "code",
   "execution_count": 24,
   "metadata": {},
   "outputs": [],
   "source": [
    "def exibir_poema(data_extenso, *args, **kwargs):\n",
    "    texto = '\\n'.join(args)\n",
    "    meta_dados = '\\n'.join([f'{chave.title()}:{valor}' for chave, valor in kwargs.items()])\n",
    "    mensagem = f'{data_extenso}\\n\\n{texto}\\n\\n{meta_dados}'\n",
    "    print(mensagem)"
   ]
  },
  {
   "cell_type": "code",
   "execution_count": 27,
   "metadata": {},
   "outputs": [
    {
     "name": "stdout",
     "output_type": "stream",
     "text": [
      "Quinta-feira, 18 de Abril de 2024\n",
      "\n",
      "Zen of Python\n",
      "Beautiful is better than ugly.\n",
      "Explicit is better than implicit.\n",
      "Simple is better than complex.\n",
      "Complex is better than complicated.\n",
      "Flat is better than nested.\n",
      "Sparse is better than dense.\n",
      "Readability counts.\n",
      "Special cases aren't special enough to break the rules.\n",
      "Although practicality beats purity.\n",
      "Errors should never pass silently.\n",
      "Unless explicitly silenced.\n",
      "In the face of ambiguity, refuse the temptation to guess.\n",
      "There should be one-- and preferably only one --obvious way to do it.\n",
      "Although that way may not be obvious at first unless you're Dutch.\n",
      "Now is better than never.\n",
      "Although never is often better than *right* now.\n",
      "If the implementation is hard to explain, it's a bad idea.\n",
      "If the implementation is easy to explain, it may be a good idea.\n",
      "Namespaces are one honking great idea -- let's do more of those!\n",
      "\n",
      "Autor:Tim Peters\n",
      "Ano:1999\n"
     ]
    }
   ],
   "source": [
    "exibir_poema(\n",
    "    'Quinta-feira, 18 de Abril de 2024',\n",
    "    'Zen of Python', \n",
    "    'Beautiful is better than ugly.',\n",
    "    'Explicit is better than implicit.',\n",
    "    'Simple is better than complex.',\n",
    "    'Complex is better than complicated.',\n",
    "    'Flat is better than nested.',\n",
    "    'Sparse is better than dense.',\n",
    "    'Readability counts.',\n",
    "    \"Special cases aren't special enough to break the rules.\",\n",
    "    \"Although practicality beats purity.\",\n",
    "    \"Errors should never pass silently.\",\n",
    "    \"Unless explicitly silenced.\",\n",
    "    \"In the face of ambiguity, refuse the temptation to guess.\",\n",
    "    \"There should be one-- and preferably only one --obvious way to do it.\",\n",
    "    \"Although that way may not be obvious at first unless you're Dutch.\",\n",
    "    \"Now is better than never.\",\n",
    "    \"Although never is often better than *right* now.\",\n",
    "    \"If the implementation is hard to explain, it's a bad idea.\",\n",
    "    \"If the implementation is easy to explain, it may be a good idea.\",\n",
    "    \"Namespaces are one honking great idea -- let's do more of those!\",\n",
    "    autor='Tim Peters',\n",
    "    ano=1999)"
   ]
  },
  {
   "cell_type": "markdown",
   "metadata": {},
   "source": [
    "### Parâmetros especiais\n",
    "\n",
    "Por padrão, argumentos podem ser passados para uma função Python como parâmetros posicionais ou parâmetros nomeados.\n",
    "\n",
    "Para uma melhor legibilidade e desempenho, faz sentido restringir a maneira pelo qual argumentos possam ser passados, assim um desenvolvedor precisa apenas olhar para a definição da função para dererminar se os itens são passados **por posição, por posição e nome, ou por nome**."
   ]
  },
  {
   "cell_type": "markdown",
   "metadata": {},
   "source": [
    "**Apenas por POSIÇÃO**\n",
    "\n",
    "Inserindo uma / nos parâmetros determina que os parâmetros que antecedem a ela não podem ser nomeados, apenas posicionais."
   ]
  },
  {
   "cell_type": "code",
   "execution_count": 28,
   "metadata": {},
   "outputs": [],
   "source": [
    "def criar_carro(modelo, ano, placa, /, marca, motor, combustivel):\n",
    "    print(modelo, ano, placa, marca, motor, combustivel)"
   ]
  },
  {
   "cell_type": "code",
   "execution_count": 30,
   "metadata": {},
   "outputs": [
    {
     "name": "stdout",
     "output_type": "stream",
     "text": [
      "Palio 1999 ABC-1234 Fiat 1.0 Gasolina\n"
     ]
    }
   ],
   "source": [
    "# Forma válida para chamar a função\n",
    "criar_carro('Palio', 1999, 'ABC-1234', marca='Fiat', motor=1.0, combustivel='Gasolina')"
   ]
  },
  {
   "cell_type": "code",
   "execution_count": 31,
   "metadata": {},
   "outputs": [
    {
     "ename": "TypeError",
     "evalue": "criar_carro() got some positional-only arguments passed as keyword arguments: 'modelo, ano, placa'",
     "output_type": "error",
     "traceback": [
      "\u001b[1;31m---------------------------------------------------------------------------\u001b[0m",
      "\u001b[1;31mTypeError\u001b[0m                                 Traceback (most recent call last)",
      "Cell \u001b[1;32mIn[31], line 2\u001b[0m\n\u001b[0;32m      1\u001b[0m \u001b[38;5;66;03m# Forma inválida para chamar a função\u001b[39;00m\n\u001b[1;32m----> 2\u001b[0m \u001b[43mcriar_carro\u001b[49m\u001b[43m(\u001b[49m\u001b[43mmodelo\u001b[49m\u001b[38;5;241;43m=\u001b[39;49m\u001b[38;5;124;43m'\u001b[39;49m\u001b[38;5;124;43mPalio\u001b[39;49m\u001b[38;5;124;43m'\u001b[39;49m\u001b[43m,\u001b[49m\u001b[43m \u001b[49m\u001b[43mano\u001b[49m\u001b[38;5;241;43m=\u001b[39;49m\u001b[38;5;241;43m1999\u001b[39;49m\u001b[43m,\u001b[49m\u001b[43m \u001b[49m\u001b[43mplaca\u001b[49m\u001b[38;5;241;43m=\u001b[39;49m\u001b[38;5;124;43m'\u001b[39;49m\u001b[38;5;124;43mABC-1234\u001b[39;49m\u001b[38;5;124;43m'\u001b[39;49m\u001b[43m,\u001b[49m\u001b[43m \u001b[49m\u001b[43mmarca\u001b[49m\u001b[38;5;241;43m=\u001b[39;49m\u001b[38;5;124;43m'\u001b[39;49m\u001b[38;5;124;43mFiat\u001b[39;49m\u001b[38;5;124;43m'\u001b[39;49m\u001b[43m,\u001b[49m\u001b[43m \u001b[49m\u001b[43mmotor\u001b[49m\u001b[38;5;241;43m=\u001b[39;49m\u001b[38;5;241;43m1.0\u001b[39;49m\u001b[43m,\u001b[49m\u001b[43m \u001b[49m\u001b[43mcombustivel\u001b[49m\u001b[38;5;241;43m=\u001b[39;49m\u001b[38;5;124;43m'\u001b[39;49m\u001b[38;5;124;43mGasolina\u001b[39;49m\u001b[38;5;124;43m'\u001b[39;49m\u001b[43m)\u001b[49m\n",
      "\u001b[1;31mTypeError\u001b[0m: criar_carro() got some positional-only arguments passed as keyword arguments: 'modelo, ano, placa'"
     ]
    }
   ],
   "source": [
    "# Forma inválida para chamar a função\n",
    "criar_carro(modelo='Palio', ano=1999, placa='ABC-1234', marca='Fiat', motor=1.0, combustivel='Gasolina')"
   ]
  },
  {
   "cell_type": "markdown",
   "metadata": {},
   "source": [
    "**Apenas por NOMEADOS**\n",
    "\n",
    "Inserindo um * nos parâmetros determina que os parâmetros após ele só podem ser passados nomeados."
   ]
  },
  {
   "cell_type": "code",
   "execution_count": 35,
   "metadata": {},
   "outputs": [],
   "source": [
    "def criar_carro(*, modelo, ano, placa, marca, motor, combustivel):\n",
    "    print(modelo, ano, placa, marca, motor, combustivel)"
   ]
  },
  {
   "cell_type": "code",
   "execution_count": 36,
   "metadata": {},
   "outputs": [
    {
     "name": "stdout",
     "output_type": "stream",
     "text": [
      "Palio 1999 ABC-1234 Fiat 1.0 Gasolina\n"
     ]
    }
   ],
   "source": [
    "# Forma válida para chamar a função\n",
    "criar_carro(modelo='Palio', ano=1999, placa='ABC-1234', marca='Fiat', motor=1.0, combustivel='Gasolina')"
   ]
  },
  {
   "cell_type": "code",
   "execution_count": 37,
   "metadata": {},
   "outputs": [
    {
     "ename": "TypeError",
     "evalue": "criar_carro() takes 0 positional arguments but 3 positional arguments (and 3 keyword-only arguments) were given",
     "output_type": "error",
     "traceback": [
      "\u001b[1;31m---------------------------------------------------------------------------\u001b[0m",
      "\u001b[1;31mTypeError\u001b[0m                                 Traceback (most recent call last)",
      "Cell \u001b[1;32mIn[37], line 2\u001b[0m\n\u001b[0;32m      1\u001b[0m \u001b[38;5;66;03m# Forma inválida para chamar a função\u001b[39;00m\n\u001b[1;32m----> 2\u001b[0m \u001b[43mcriar_carro\u001b[49m\u001b[43m(\u001b[49m\u001b[38;5;124;43m'\u001b[39;49m\u001b[38;5;124;43mPalio\u001b[39;49m\u001b[38;5;124;43m'\u001b[39;49m\u001b[43m,\u001b[49m\u001b[43m \u001b[49m\u001b[38;5;241;43m1999\u001b[39;49m\u001b[43m,\u001b[49m\u001b[43m \u001b[49m\u001b[38;5;124;43m'\u001b[39;49m\u001b[38;5;124;43mABC-1234\u001b[39;49m\u001b[38;5;124;43m'\u001b[39;49m\u001b[43m,\u001b[49m\u001b[43m \u001b[49m\u001b[43mmarca\u001b[49m\u001b[38;5;241;43m=\u001b[39;49m\u001b[38;5;124;43m'\u001b[39;49m\u001b[38;5;124;43mFiat\u001b[39;49m\u001b[38;5;124;43m'\u001b[39;49m\u001b[43m,\u001b[49m\u001b[43m \u001b[49m\u001b[43mmotor\u001b[49m\u001b[38;5;241;43m=\u001b[39;49m\u001b[38;5;241;43m1.0\u001b[39;49m\u001b[43m,\u001b[49m\u001b[43m \u001b[49m\u001b[43mcombustivel\u001b[49m\u001b[38;5;241;43m=\u001b[39;49m\u001b[38;5;124;43m'\u001b[39;49m\u001b[38;5;124;43mGasolina\u001b[39;49m\u001b[38;5;124;43m'\u001b[39;49m\u001b[43m)\u001b[49m\n",
      "\u001b[1;31mTypeError\u001b[0m: criar_carro() takes 0 positional arguments but 3 positional arguments (and 3 keyword-only arguments) were given"
     ]
    }
   ],
   "source": [
    "# Forma inválida para chamar a função\n",
    "criar_carro('Palio', 1999, 'ABC-1234', marca='Fiat', motor=1.0, combustivel='Gasolina')"
   ]
  },
  {
   "cell_type": "markdown",
   "metadata": {},
   "source": [
    "**Híbrido: NOMEADOS e POSICIONAIS**\n",
    "\n",
    "O que estiver antes da / deve ser passado como POSICIONAL e o que estiver após o * deve ser passado como NOMEADOS."
   ]
  },
  {
   "cell_type": "code",
   "execution_count": 39,
   "metadata": {},
   "outputs": [],
   "source": [
    "def criar_carro(modelo, ano, placa, /, *, marca, motor, combustivel):\n",
    "    print(modelo, ano, placa, marca, motor, combustivel)"
   ]
  },
  {
   "cell_type": "code",
   "execution_count": 40,
   "metadata": {},
   "outputs": [
    {
     "name": "stdout",
     "output_type": "stream",
     "text": [
      "Palio 1999 ABC-1234 Fiat 1.0 Gasolina\n"
     ]
    }
   ],
   "source": [
    "# Forma válida para chamar a função\n",
    "criar_carro('Palio', 1999, 'ABC-1234', marca='Fiat', motor=1.0, combustivel='Gasolina')"
   ]
  },
  {
   "cell_type": "code",
   "execution_count": 42,
   "metadata": {},
   "outputs": [
    {
     "ename": "TypeError",
     "evalue": "criar_carro() got some positional-only arguments passed as keyword arguments: 'modelo, ano, placa'",
     "output_type": "error",
     "traceback": [
      "\u001b[1;31m---------------------------------------------------------------------------\u001b[0m",
      "\u001b[1;31mTypeError\u001b[0m                                 Traceback (most recent call last)",
      "Cell \u001b[1;32mIn[42], line 2\u001b[0m\n\u001b[0;32m      1\u001b[0m \u001b[38;5;66;03m# Forma válida para chamar a função\u001b[39;00m\n\u001b[1;32m----> 2\u001b[0m \u001b[43mcriar_carro\u001b[49m\u001b[43m(\u001b[49m\u001b[43mmodelo\u001b[49m\u001b[38;5;241;43m=\u001b[39;49m\u001b[38;5;124;43m'\u001b[39;49m\u001b[38;5;124;43mPalio\u001b[39;49m\u001b[38;5;124;43m'\u001b[39;49m\u001b[43m,\u001b[49m\u001b[43m \u001b[49m\u001b[43mano\u001b[49m\u001b[38;5;241;43m=\u001b[39;49m\u001b[38;5;241;43m1999\u001b[39;49m\u001b[43m,\u001b[49m\u001b[43m \u001b[49m\u001b[43mplaca\u001b[49m\u001b[38;5;241;43m=\u001b[39;49m\u001b[38;5;124;43m'\u001b[39;49m\u001b[38;5;124;43mABC-1234\u001b[39;49m\u001b[38;5;124;43m'\u001b[39;49m\u001b[43m,\u001b[49m\u001b[43m \u001b[49m\u001b[43mmarca\u001b[49m\u001b[38;5;241;43m=\u001b[39;49m\u001b[38;5;124;43m'\u001b[39;49m\u001b[38;5;124;43mFiat\u001b[39;49m\u001b[38;5;124;43m'\u001b[39;49m\u001b[43m,\u001b[49m\u001b[43m \u001b[49m\u001b[43mmotor\u001b[49m\u001b[38;5;241;43m=\u001b[39;49m\u001b[38;5;241;43m1.0\u001b[39;49m\u001b[43m,\u001b[49m\u001b[43m \u001b[49m\u001b[43mcombustivel\u001b[49m\u001b[38;5;241;43m=\u001b[39;49m\u001b[38;5;124;43m'\u001b[39;49m\u001b[38;5;124;43mGasolina\u001b[39;49m\u001b[38;5;124;43m'\u001b[39;49m\u001b[43m)\u001b[49m\n",
      "\u001b[1;31mTypeError\u001b[0m: criar_carro() got some positional-only arguments passed as keyword arguments: 'modelo, ano, placa'"
     ]
    }
   ],
   "source": [
    "# Forma válida para chamar a função\n",
    "criar_carro(modelo='Palio', ano=1999, placa='ABC-1234', marca='Fiat', motor=1.0, combustivel='Gasolina')"
   ]
  },
  {
   "cell_type": "markdown",
   "metadata": {},
   "source": [
    "### Objetos de primeira classe\n",
    "\n",
    "Em Python tudo é objeto, dessa forma **funções também são obejtos** o que as tornam objetos de primeira classe.\n",
    "\n",
    "Objetos de primeira classe é um objeto que pode ser passado como parâmetro para uma função, pode ser retornado por uma função (closures), pode ser atribuído a uma variável e pode ser usado como valor em estruturas de dados (listas, tuplas, dicionário, etc.)."
   ]
  },
  {
   "cell_type": "code",
   "execution_count": 43,
   "metadata": {},
   "outputs": [
    {
     "name": "stdout",
     "output_type": "stream",
     "text": [
      "O resultado da operação 10 + 15 = 25\n"
     ]
    }
   ],
   "source": [
    "# Exemplo\n",
    "\n",
    "def somar(a, b):\n",
    "    return a + b\n",
    "\n",
    "def exibir_resultado(a, b, funcao):\n",
    "    resultado = funcao(a, b)\n",
    "    print(f'O resultado da operação {a} + {b} = {resultado}')\n",
    "\n",
    "exibir_resultado(10, 15, somar)"
   ]
  },
  {
   "cell_type": "markdown",
   "metadata": {},
   "source": [
    "### Escopo local e escopo global\n",
    "\n",
    "Python trabalha com escopo local e global, dentro do bloco da função o escopo é local. Portanto alterações ali feitas em objetos imutáveis serão perdidas quando o método terminar de ser executado.\n",
    "\n",
    "Para usar objetos globais utilizamos a palavra-chave `global`, que informa ao interpretador que a variável que está sendo manipulada no escopo local é global.\n",
    "\n",
    "**ESSA NÃO É UMA BOA PRÁTICA E DEVE SER EVITADA**"
   ]
  },
  {
   "cell_type": "code",
   "execution_count": 44,
   "metadata": {},
   "outputs": [
    {
     "data": {
      "text/plain": [
       "2500"
      ]
     },
     "execution_count": 44,
     "metadata": {},
     "output_type": "execute_result"
    }
   ],
   "source": [
    "salario = 2000\n",
    "\n",
    "def salario_bonus(bonus):\n",
    "    global salario\n",
    "    salario += bonus\n",
    "    return salario\n",
    "\n",
    "salario_bonus(500)"
   ]
  },
  {
   "cell_type": "code",
   "execution_count": 46,
   "metadata": {},
   "outputs": [
    {
     "name": "stdout",
     "output_type": "stream",
     "text": [
      "2500\n"
     ]
    }
   ],
   "source": [
    "print(salario)"
   ]
  },
  {
   "cell_type": "markdown",
   "metadata": {},
   "source": [
    "Aqui verificamos que se usamos uma váriavel global dentro de uma função, mesmo após a execução finalizar, a variável receberá permanentemente o novo valor."
   ]
  }
 ],
 "metadata": {
  "kernelspec": {
   "display_name": "Python 3",
   "language": "python",
   "name": "python3"
  },
  "language_info": {
   "codemirror_mode": {
    "name": "ipython",
    "version": 3
   },
   "file_extension": ".py",
   "mimetype": "text/x-python",
   "name": "python",
   "nbconvert_exporter": "python",
   "pygments_lexer": "ipython3",
   "version": "3.12.1"
  }
 },
 "nbformat": 4,
 "nbformat_minor": 2
}
