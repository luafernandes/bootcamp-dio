{
 "cells": [
  {
   "cell_type": "markdown",
   "metadata": {},
   "source": [
    "## Identação e Blocos"
   ]
  },
  {
   "cell_type": "markdown",
   "metadata": {},
   "source": [
    "**Identação**: além de manter o código mais  legível e facilitar na manutenção, em Python ela exerce um segundo papel, o interpretador consegue determinar onde um bloco de comando inicia e onde ele termina."
   ]
  },
  {
   "cell_type": "markdown",
   "metadata": {},
   "source": [
    "## Estruturas condicionais"
   ]
  },
  {
   "cell_type": "markdown",
   "metadata": {},
   "source": [
    "`IF`: para criar uma estrutura condicional simples, composta por um único desvio.\n",
    "\n",
    "O comando irá testar a expressão lógica, e em caso de retorno verdadeiro as ações presentes no bloco de código do `if` serão executadas."
   ]
  },
  {
   "cell_type": "code",
   "execution_count": 1,
   "metadata": {},
   "outputs": [
    {
     "name": "stdout",
     "output_type": "stream",
     "text": [
      "Realizando saque...\n"
     ]
    }
   ],
   "source": [
    "saldo = 2000.0\n",
    "saque = float(input('Informe o valor do saque: '))\n",
    "\n",
    "if saldo >= saque:\n",
    "    print('Realizando saque...')\n",
    "if saldo < saque:\n",
    "    print('Saldo insuficiente')"
   ]
  },
  {
   "cell_type": "markdown",
   "metadata": {},
   "source": [
    "`IF` / `ELSE`: para criar um estrutura condicional com dois desvios.\n",
    "\n",
    "Se a expressão lógica testada no `if` for verdadeira, o bloco de código do `if` será executado. Caso contrário o bloco de código do `else` será executado."
   ]
  },
  {
   "cell_type": "code",
   "execution_count": 2,
   "metadata": {},
   "outputs": [
    {
     "name": "stdout",
     "output_type": "stream",
     "text": [
      "Saldo insuficiente\n"
     ]
    }
   ],
   "source": [
    "saldo = 2000.0\n",
    "saque = float(input('Informe o valor do saque: '))\n",
    "\n",
    "if saldo >= saque:\n",
    "    print('Realizando saque...')\n",
    "else:\n",
    "    print('Saldo insuficiente')"
   ]
  },
  {
   "cell_type": "markdown",
   "metadata": {},
   "source": [
    "`IF` / `ELIF`/ `ELSE`: para criar um estrutura condicional com mais de dois desvios."
   ]
  },
  {
   "cell_type": "code",
   "execution_count": 5,
   "metadata": {},
   "outputs": [
    {
     "name": "stdout",
     "output_type": "stream",
     "text": [
      "Opção inválida\n"
     ]
    }
   ],
   "source": [
    "opcao = int(input('Informe uma opção: [1] Sacas \\n[2] Extrato: '))\n",
    "\n",
    "if opcao == 1:\n",
    "    valor = float(input('Informe a quantia para o saque: R$'))\n",
    "elif opcao == 2:\n",
    "    print('Exibindo o extrato...')\n",
    "else:\n",
    "    print('Opção inválida')"
   ]
  },
  {
   "cell_type": "markdown",
   "metadata": {},
   "source": [
    "## Estruturas de Repetição"
   ]
  },
  {
   "cell_type": "markdown",
   "metadata": {},
   "source": [
    "### O que são estruturas de repetição?\n",
    "São estruturas utilizadas para repetir um trecho de código um determinado número de vezes. Esse número pode ser conhecido previamente ou determinado através de uma expressão lógica."
   ]
  },
  {
   "cell_type": "markdown",
   "metadata": {},
   "source": [
    "### Comando `for`\n",
    "Usado para percorrer um objeto interável. Faz sentido usar `for` quando sabemos o número exato de vezes que nosso bloco de código dever ser executado ou quando queremos percorrer um objeto interável."
   ]
  },
  {
   "cell_type": "code",
   "execution_count": 12,
   "metadata": {},
   "outputs": [
    {
     "name": "stdout",
     "output_type": "stream",
     "text": [
      "oea\n"
     ]
    }
   ],
   "source": [
    "texto = input('Informe um texto: ')\n",
    "VOGAIS = 'AEIOU'\n",
    "\n",
    "for letra in texto:\n",
    "    if letra.upper() in VOGAIS:\n",
    "        print(letra, end=\"\")\n",
    "\n",
    "print() #adiciona uma quebra de linha"
   ]
  },
  {
   "cell_type": "code",
   "execution_count": 15,
   "metadata": {},
   "outputs": [
    {
     "name": "stdout",
     "output_type": "stream",
     "text": [
      "uiaa\n",
      "Executa no final do laço\n"
     ]
    }
   ],
   "source": [
    "# FOR / ELSE > não é muito comum\n",
    "texto = input('Informe um texto: ')\n",
    "VOGAIS = 'AEIOU'\n",
    "\n",
    "for letra in texto:\n",
    "    if letra.upper() in VOGAIS:\n",
    "        print(letra, end=\"\")\n",
    "else:\n",
    "    print() #adiciona uma quebra de linha\n",
    "    print('Executa no final do laço')"
   ]
  },
  {
   "cell_type": "markdown",
   "metadata": {},
   "source": [
    "### Função `range`\n",
    "`range` é uma função built-in do Python usada para produzir uma sequência de números inteiros a partir de um início (inclusivo) para um fim (exclusivo). Se usarmos `range(i,j)` será produzido:\n",
    "\n",
    "i, i+1, i+2, i+3,...,j-1\n",
    "\n",
    "Ela recebe 3 argumentos: stop (obrigatório), start (opcional) e step (opcional)"
   ]
  },
  {
   "cell_type": "code",
   "execution_count": 16,
   "metadata": {},
   "outputs": [
    {
     "data": {
      "text/plain": [
       "[0, 1, 2, 3]"
      ]
     },
     "execution_count": 16,
     "metadata": {},
     "output_type": "execute_result"
    }
   ],
   "source": [
    "# range(stop)\n",
    "# range(start, stop, step)\n",
    "\n",
    "list(range(4))"
   ]
  },
  {
   "cell_type": "code",
   "execution_count": 17,
   "metadata": {},
   "outputs": [
    {
     "name": "stdout",
     "output_type": "stream",
     "text": [
      "0 1 2 3 4 5 6 7 8 9 10 "
     ]
    }
   ],
   "source": [
    "for numero in range(0, 11):\n",
    "    print(numero, end=\" \")"
   ]
  },
  {
   "cell_type": "code",
   "execution_count": 18,
   "metadata": {},
   "outputs": [
    {
     "name": "stdout",
     "output_type": "stream",
     "text": [
      "0 5 10 15 20 25 30 35 40 45 50 "
     ]
    }
   ],
   "source": [
    "# exibindo a tabuada do 5\n",
    "for numero in range(0, 51, 5):\n",
    "    print(numero, end=\" \")"
   ]
  },
  {
   "cell_type": "markdown",
   "metadata": {},
   "source": [
    "### Comando `while`\n",
    "Usado para repetir um bloco de código várias vezes, faz sentido quando não sabemos o número exato de vezes que nosso bloco de código deve ser executado."
   ]
  },
  {
   "cell_type": "code",
   "execution_count": 19,
   "metadata": {},
   "outputs": [
    {
     "name": "stdout",
     "output_type": "stream",
     "text": [
      "Sacando...\n",
      "Sacando...\n",
      "Exibindo o extrato...\n",
      "Exibindo o extrato...\n"
     ]
    }
   ],
   "source": [
    "opcao = -1\n",
    "\n",
    "while opcao != 0:\n",
    "    opcao = int(input('[1] Sacar \\n[2] Extrato \\n[0] Sair \\n: '))\n",
    "\n",
    "    if opcao == 1:\n",
    "        print('Sacando...')\n",
    "    elif opcao == 2:\n",
    "        print('Exibindo o extrato...')"
   ]
  },
  {
   "cell_type": "code",
   "execution_count": 21,
   "metadata": {},
   "outputs": [
    {
     "name": "stdout",
     "output_type": "stream",
     "text": [
      "Sacando...\n",
      "Exibindo o extrato...\n",
      "Obrigado por usar o nosso sistema bancário, até logo!\n"
     ]
    }
   ],
   "source": [
    "# Também podemos utilizar o `else`\n",
    "\n",
    "opcao = -1\n",
    "\n",
    "while opcao != 0:\n",
    "    opcao = int(input('[1] Sacar \\n[2] Extrato \\n[0] Sair \\n: '))\n",
    "\n",
    "    if opcao == 1:\n",
    "        print('Sacando...')\n",
    "    elif opcao == 2:\n",
    "        print('Exibindo o extrato...')\n",
    "        \n",
    "else:\n",
    "    print('Obrigado por usar o nosso sistema bancário, até logo!')"
   ]
  },
  {
   "cell_type": "markdown",
   "metadata": {},
   "source": [
    "**Cuidado com o loop infinito!**\n",
    "\n",
    "Usamos o `break` para que ele corte o laço de repetição se uma condição for atendida"
   ]
  },
  {
   "cell_type": "code",
   "execution_count": 22,
   "metadata": {},
   "outputs": [],
   "source": [
    "while True:\n",
    "    numero = int(input('Informe um número: '))\n",
    "\n",
    "    if numero == 10:\n",
    "        break\n",
    "        \n",
    "else:\n",
    "    print(numero)"
   ]
  }
 ],
 "metadata": {
  "kernelspec": {
   "display_name": "Python 3",
   "language": "python",
   "name": "python3"
  },
  "language_info": {
   "codemirror_mode": {
    "name": "ipython",
    "version": 3
   },
   "file_extension": ".py",
   "mimetype": "text/x-python",
   "name": "python",
   "nbconvert_exporter": "python",
   "pygments_lexer": "ipython3",
   "version": "3.12.1"
  }
 },
 "nbformat": 4,
 "nbformat_minor": 2
}
