{
 "cells": [
  {
   "cell_type": "markdown",
   "metadata": {},
   "source": [
    "## Criando dicionários\n",
    "\n",
    "Um dicionário é um conjunto não-ordenado de pares chave:valor, onde as chaves são únicas em uma dada instância de um dicionário.\n",
    "São delimitados por chaves e contém uma lista de pares chave:valor separada por vírgulas.\n",
    "\n",
    "Pode ser criado usando o comando `dict`.\n",
    "\n",
    "Exemplos:"
   ]
  },
  {
   "cell_type": "code",
   "execution_count": 1,
   "metadata": {},
   "outputs": [],
   "source": [
    "pessoa = {'nome':'Luciana', 'idade':27}"
   ]
  },
  {
   "cell_type": "code",
   "execution_count": 2,
   "metadata": {},
   "outputs": [],
   "source": [
    "pessoa = dict(nome='Luciana', idade=27)"
   ]
  },
  {
   "cell_type": "markdown",
   "metadata": {},
   "source": [
    "Adicionando um novo par ao dicionário"
   ]
  },
  {
   "cell_type": "code",
   "execution_count": 3,
   "metadata": {},
   "outputs": [],
   "source": [
    "pessoa['telefone'] = '0000-0000'"
   ]
  },
  {
   "cell_type": "code",
   "execution_count": 4,
   "metadata": {},
   "outputs": [
    {
     "data": {
      "text/plain": [
       "{'nome': 'Luciana', 'idade': 27, 'telefone': '0000-0000'}"
      ]
     },
     "execution_count": 4,
     "metadata": {},
     "output_type": "execute_result"
    }
   ],
   "source": [
    "pessoa"
   ]
  },
  {
   "cell_type": "markdown",
   "metadata": {},
   "source": [
    "### Acessando os dados\n",
    "\n",
    "Os dados podem ser acessados e modificados através da chave"
   ]
  },
  {
   "cell_type": "code",
   "execution_count": 6,
   "metadata": {},
   "outputs": [],
   "source": [
    "dados = {'nome':'Luciana', 'idade':27, 'telefone':'0000-0000'}"
   ]
  },
  {
   "cell_type": "code",
   "execution_count": 7,
   "metadata": {},
   "outputs": [
    {
     "data": {
      "text/plain": [
       "'Luciana'"
      ]
     },
     "execution_count": 7,
     "metadata": {},
     "output_type": "execute_result"
    }
   ],
   "source": [
    "dados['nome']"
   ]
  },
  {
   "cell_type": "code",
   "execution_count": 8,
   "metadata": {},
   "outputs": [],
   "source": [
    "dados['nome'] = 'Ana'"
   ]
  },
  {
   "cell_type": "code",
   "execution_count": 9,
   "metadata": {},
   "outputs": [
    {
     "data": {
      "text/plain": [
       "{'nome': 'Ana', 'idade': 27, 'telefone': '0000-0000'}"
      ]
     },
     "execution_count": 9,
     "metadata": {},
     "output_type": "execute_result"
    }
   ],
   "source": [
    "dados"
   ]
  },
  {
   "cell_type": "markdown",
   "metadata": {},
   "source": [
    "### Dicionários aninhados\n",
    "\n",
    "Dicionários podem armazenar qualquer tipo de objeto Python como valor, desde que a chave para esse valor seja um objeto imutável como strings e números.\n",
    "\n",
    "Exemplo:"
   ]
  },
  {
   "cell_type": "code",
   "execution_count": 10,
   "metadata": {},
   "outputs": [],
   "source": [
    "contatos = {\n",
    "    'luciana@gmail.com': {'nome': 'Luciana', 'telefone':'0000-0000'},\n",
    "    'ana@gmail.com':{'nome':'Ana', 'telefone':'1111-1111'},\n",
    "    'jose@gmail.com':{'nome':'José', 'telefone':'2222-2222'}\n",
    "}"
   ]
  },
  {
   "cell_type": "code",
   "execution_count": 12,
   "metadata": {},
   "outputs": [
    {
     "data": {
      "text/plain": [
       "'1111-1111'"
      ]
     },
     "execution_count": 12,
     "metadata": {},
     "output_type": "execute_result"
    }
   ],
   "source": [
    "contatos['ana@gmail.com']['telefone']"
   ]
  },
  {
   "cell_type": "markdown",
   "metadata": {},
   "source": [
    "### Iterar dicionários\n",
    "A forma mais comum para percorrer os dados de um dicionário é utilizando o comando `for`"
   ]
  },
  {
   "cell_type": "code",
   "execution_count": 14,
   "metadata": {},
   "outputs": [
    {
     "name": "stdout",
     "output_type": "stream",
     "text": [
      "luciana@gmail.com {'nome': 'Luciana', 'telefone': '0000-0000'}\n",
      "ana@gmail.com {'nome': 'Ana', 'telefone': '1111-1111'}\n",
      "jose@gmail.com {'nome': 'José', 'telefone': '2222-2222'}\n"
     ]
    }
   ],
   "source": [
    "for chave in contatos:\n",
    "    print(chave, contatos[chave])"
   ]
  },
  {
   "cell_type": "code",
   "execution_count": 16,
   "metadata": {},
   "outputs": [
    {
     "name": "stdout",
     "output_type": "stream",
     "text": [
      "luciana@gmail.com {'nome': 'Luciana', 'telefone': '0000-0000'}\n",
      "ana@gmail.com {'nome': 'Ana', 'telefone': '1111-1111'}\n",
      "jose@gmail.com {'nome': 'José', 'telefone': '2222-2222'}\n"
     ]
    }
   ],
   "source": [
    "for chave, valor in contatos.items():\n",
    "    print(chave, valor)"
   ]
  },
  {
   "cell_type": "markdown",
   "metadata": {},
   "source": [
    "### Métodos da classe `dict`"
   ]
  },
  {
   "cell_type": "markdown",
   "metadata": {},
   "source": [
    "`{}.clear`: apaga todos os valores do dicionário"
   ]
  },
  {
   "cell_type": "code",
   "execution_count": 17,
   "metadata": {},
   "outputs": [
    {
     "data": {
      "text/plain": [
       "{'luciana@gmail.com': {'nome': 'Luciana', 'telefone': '0000-0000'},\n",
       " 'ana@gmail.com': {'nome': 'Ana', 'telefone': '1111-1111'},\n",
       " 'jose@gmail.com': {'nome': 'José', 'telefone': '2222-2222'}}"
      ]
     },
     "execution_count": 17,
     "metadata": {},
     "output_type": "execute_result"
    }
   ],
   "source": [
    "contatos"
   ]
  },
  {
   "cell_type": "code",
   "execution_count": 19,
   "metadata": {},
   "outputs": [],
   "source": [
    "contatos.clear()"
   ]
  },
  {
   "cell_type": "code",
   "execution_count": 20,
   "metadata": {},
   "outputs": [
    {
     "data": {
      "text/plain": [
       "{}"
      ]
     },
     "execution_count": 20,
     "metadata": {},
     "output_type": "execute_result"
    }
   ],
   "source": [
    "contatos"
   ]
  },
  {
   "cell_type": "markdown",
   "metadata": {},
   "source": [
    "`{}.copy`: faz uma cópia do dicionário"
   ]
  },
  {
   "cell_type": "code",
   "execution_count": 21,
   "metadata": {},
   "outputs": [],
   "source": [
    "contatos = {\n",
    "    'luciana@gmail.com': {'nome': 'Luciana', 'telefone':'0000-0000'}\n",
    "}"
   ]
  },
  {
   "cell_type": "code",
   "execution_count": 22,
   "metadata": {},
   "outputs": [],
   "source": [
    "copia = contatos.copy()"
   ]
  },
  {
   "cell_type": "markdown",
   "metadata": {},
   "source": [
    "`{}.fromkeys`: usado para criar um dicionário em a partir de uma sequência de chaves.\n",
    "\n",
    "Ele aceita dois argumentos:\n",
    "\n",
    "- Uma sequência de chaves.\n",
    "- Um valor opcional para associar a cada chave.\n",
    "\n",
    "Quando você chama fromkeys com uma sequência de chaves e um valor, ele retorna um novo dicionário onde cada chave da sequência é associada ao valor fornecido. "
   ]
  },
  {
   "cell_type": "code",
   "execution_count": 23,
   "metadata": {},
   "outputs": [
    {
     "data": {
      "text/plain": [
       "{'nome': None, 'telefone': None}"
      ]
     },
     "execution_count": 23,
     "metadata": {},
     "output_type": "execute_result"
    }
   ],
   "source": [
    "# Criando um dicionário a partir de chaves, mas sem atribuir um valor\n",
    "\n",
    "dict.fromkeys(['nome', 'telefone'])"
   ]
  },
  {
   "cell_type": "code",
   "execution_count": 24,
   "metadata": {},
   "outputs": [
    {
     "data": {
      "text/plain": [
       "{'nome': 'vazio', 'telefone': 'vazio'}"
      ]
     },
     "execution_count": 24,
     "metadata": {},
     "output_type": "execute_result"
    }
   ],
   "source": [
    "# Criando um dicionário a partir de chaves, atribuindo o valor como vazio\n",
    "\n",
    "dict.fromkeys(['nome', 'telefone'], 'vazio')"
   ]
  },
  {
   "cell_type": "markdown",
   "metadata": {},
   "source": [
    "`{}.get`: usado para acessar valores dentro de um dicionário.\n",
    "\n",
    "Ele aceita um argumento, que é a chave cujo valor você deseja obter, e opcionalmente um segundo argumento que é o valor padrão a ser retornado caso a chave não exista no dicionário."
   ]
  },
  {
   "cell_type": "code",
   "execution_count": 25,
   "metadata": {},
   "outputs": [
    {
     "data": {
      "text/plain": [
       "{'luciana@gmail.com': {'nome': 'Luciana', 'telefone': '0000-0000'}}"
      ]
     },
     "execution_count": 25,
     "metadata": {},
     "output_type": "execute_result"
    }
   ],
   "source": [
    "contatos"
   ]
  },
  {
   "cell_type": "code",
   "execution_count": 26,
   "metadata": {},
   "outputs": [],
   "source": [
    "contatos.get('chave')"
   ]
  },
  {
   "cell_type": "code",
   "execution_count": 27,
   "metadata": {},
   "outputs": [
    {
     "data": {
      "text/plain": [
       "{}"
      ]
     },
     "execution_count": 27,
     "metadata": {},
     "output_type": "execute_result"
    }
   ],
   "source": [
    "contatos.get('chave', {})"
   ]
  },
  {
   "cell_type": "code",
   "execution_count": 28,
   "metadata": {},
   "outputs": [
    {
     "data": {
      "text/plain": [
       "{'nome': 'Luciana', 'telefone': '0000-0000'}"
      ]
     },
     "execution_count": 28,
     "metadata": {},
     "output_type": "execute_result"
    }
   ],
   "source": [
    "contatos.get('luciana@gmail.com')"
   ]
  },
  {
   "cell_type": "code",
   "execution_count": 29,
   "metadata": {},
   "outputs": [
    {
     "data": {
      "text/plain": [
       "{'nome': 'Luciana', 'telefone': '0000-0000'}"
      ]
     },
     "execution_count": 29,
     "metadata": {},
     "output_type": "execute_result"
    }
   ],
   "source": [
    "contatos.get('luciana@gmail.com', {})"
   ]
  },
  {
   "cell_type": "markdown",
   "metadata": {},
   "source": [
    "`{}.items`: usado para retornar uma visualização de itens de um dicionário. Ele retorna uma sequência de tuplas, onde cada tupla contém um par chave-valor do dicionário."
   ]
  },
  {
   "cell_type": "code",
   "execution_count": 30,
   "metadata": {},
   "outputs": [
    {
     "data": {
      "text/plain": [
       "dict_items([('luciana@gmail.com', {'nome': 'Luciana', 'telefone': '0000-0000'})])"
      ]
     },
     "execution_count": 30,
     "metadata": {},
     "output_type": "execute_result"
    }
   ],
   "source": [
    "contatos.items()"
   ]
  },
  {
   "cell_type": "code",
   "execution_count": 31,
   "metadata": {},
   "outputs": [
    {
     "name": "stdout",
     "output_type": "stream",
     "text": [
      "Chave: luciana@gmail.com, Valor: {'nome': 'Luciana', 'telefone': '0000-0000'}\n"
     ]
    }
   ],
   "source": [
    "for chave, valor in contatos.items():\n",
    "    print(f'Chave: {chave}, Valor: {valor}')"
   ]
  },
  {
   "cell_type": "markdown",
   "metadata": {},
   "source": [
    "`{}.keys`: retorna as chaves do dicionário"
   ]
  },
  {
   "cell_type": "code",
   "execution_count": 32,
   "metadata": {},
   "outputs": [],
   "source": [
    "contatos = {\n",
    "    'luciana@gmail.com': {'nome': 'Luciana', 'telefone':'0000-0000'},\n",
    "    'ana@gmail.com':{'nome':'Ana', 'telefone':'1111-1111'},\n",
    "    'jose@gmail.com':{'nome':'José', 'telefone':'2222-2222'}\n",
    "}"
   ]
  },
  {
   "cell_type": "code",
   "execution_count": 33,
   "metadata": {},
   "outputs": [
    {
     "data": {
      "text/plain": [
       "dict_keys(['luciana@gmail.com', 'ana@gmail.com', 'jose@gmail.com'])"
      ]
     },
     "execution_count": 33,
     "metadata": {},
     "output_type": "execute_result"
    }
   ],
   "source": [
    "contatos.keys()"
   ]
  },
  {
   "cell_type": "markdown",
   "metadata": {},
   "source": [
    "`{}.pop`: usado para remover uma chave específica de um dicionário e retorna o valor associado à chave removida. Ele aceita um argumento, que é a chave do item que você deseja remover.\n",
    "\n",
    "Se a chave passada como parâmetro não existir, é possível adicionar um valor padrão de retorno.\n",
    "\n"
   ]
  },
  {
   "cell_type": "code",
   "execution_count": 34,
   "metadata": {},
   "outputs": [
    {
     "data": {
      "text/plain": [
       "{'nome': 'Luciana', 'telefone': '0000-0000'}"
      ]
     },
     "execution_count": 34,
     "metadata": {},
     "output_type": "execute_result"
    }
   ],
   "source": [
    "contatos.pop('luciana@gmail.com')"
   ]
  },
  {
   "cell_type": "code",
   "execution_count": 35,
   "metadata": {},
   "outputs": [
    {
     "data": {
      "text/plain": [
       "{'ana@gmail.com': {'nome': 'Ana', 'telefone': '1111-1111'},\n",
       " 'jose@gmail.com': {'nome': 'José', 'telefone': '2222-2222'}}"
      ]
     },
     "execution_count": 35,
     "metadata": {},
     "output_type": "execute_result"
    }
   ],
   "source": [
    "contatos"
   ]
  },
  {
   "cell_type": "code",
   "execution_count": 36,
   "metadata": {},
   "outputs": [
    {
     "data": {
      "text/plain": [
       "{}"
      ]
     },
     "execution_count": 36,
     "metadata": {},
     "output_type": "execute_result"
    }
   ],
   "source": [
    "contatos.pop('luciana@gmail.com', {}) # neste caso o valor padrão para chaves inexistente será {}"
   ]
  },
  {
   "cell_type": "markdown",
   "metadata": {},
   "source": [
    "`{}.popitem`: usado para remover e retornar um par chave-valor arbitrário de um dicionário. Ele não aceita nenhum argumento.\n",
    "\n",
    "Se o dicionário estiver vazio, retornará um KeyError\n"
   ]
  },
  {
   "cell_type": "code",
   "execution_count": 37,
   "metadata": {},
   "outputs": [
    {
     "data": {
      "text/plain": [
       "('jose@gmail.com', {'nome': 'José', 'telefone': '2222-2222'})"
      ]
     },
     "execution_count": 37,
     "metadata": {},
     "output_type": "execute_result"
    }
   ],
   "source": [
    "contatos.popitem()"
   ]
  },
  {
   "cell_type": "code",
   "execution_count": 38,
   "metadata": {},
   "outputs": [
    {
     "data": {
      "text/plain": [
       "{'ana@gmail.com': {'nome': 'Ana', 'telefone': '1111-1111'}}"
      ]
     },
     "execution_count": 38,
     "metadata": {},
     "output_type": "execute_result"
    }
   ],
   "source": [
    "contatos"
   ]
  },
  {
   "cell_type": "markdown",
   "metadata": {},
   "source": [
    "`{}.setdefault`: usado para retornar o valor associado a uma chave específica em um dicionário. Se a chave não existir, ele a adiciona ao dicionário com um valor padrão especificado e retorna esse valor.\n",
    "\n",
    "`dicionario.setdefault(chave, valor_padrao)`\n",
    "\n",
    "- 'chave' é a chave cujo valor você deseja obter ou definir.\n",
    "- 'valor_padrao' é o valor opcional que será associado à chave se ela não existir no dicionário. Se este argumento não for fornecido e a chave não existir, o valor associado será None."
   ]
  },
  {
   "cell_type": "code",
   "execution_count": 39,
   "metadata": {},
   "outputs": [],
   "source": [
    "contato = {'nome':'luciana', 'telefone': '0000-0000'}"
   ]
  },
  {
   "cell_type": "code",
   "execution_count": 40,
   "metadata": {},
   "outputs": [
    {
     "data": {
      "text/plain": [
       "'luciana'"
      ]
     },
     "execution_count": 40,
     "metadata": {},
     "output_type": "execute_result"
    }
   ],
   "source": [
    "contato.setdefault('nome', 'ana')"
   ]
  },
  {
   "cell_type": "code",
   "execution_count": 42,
   "metadata": {},
   "outputs": [
    {
     "data": {
      "text/plain": [
       "27"
      ]
     },
     "execution_count": 42,
     "metadata": {},
     "output_type": "execute_result"
    }
   ],
   "source": [
    "contato.setdefault('idade', 27)"
   ]
  },
  {
   "cell_type": "code",
   "execution_count": 43,
   "metadata": {},
   "outputs": [
    {
     "data": {
      "text/plain": [
       "{'nome': 'luciana', 'telefone': '0000-0000', 'idade': 27}"
      ]
     },
     "execution_count": 43,
     "metadata": {},
     "output_type": "execute_result"
    }
   ],
   "source": [
    "contato"
   ]
  },
  {
   "cell_type": "markdown",
   "metadata": {},
   "source": [
    "`{}.update`:  usado para atualizar um dicionário com elementos de outro dicionário ou com uma sequência de pares chave-valor. Se a chave existir no dicionário original, seu valor será substituído pelo novo valor; se não existir, a chave e o valor correspondente serão adicionados ao dicionário."
   ]
  },
  {
   "cell_type": "code",
   "execution_count": 45,
   "metadata": {},
   "outputs": [],
   "source": [
    "contatos = {'luciana@gmail.com': {'nome': 'Luciana', 'telefone':'0000-0000'}}"
   ]
  },
  {
   "cell_type": "code",
   "execution_count": 48,
   "metadata": {},
   "outputs": [
    {
     "data": {
      "text/plain": [
       "{'luciana@gmail.com': {'nome': 'Lu'}}"
      ]
     },
     "execution_count": 48,
     "metadata": {},
     "output_type": "execute_result"
    }
   ],
   "source": [
    "contatos.update({'luciana@gmail.com':{'nome':'Lu'}})\n",
    "\n",
    "contatos"
   ]
  },
  {
   "cell_type": "code",
   "execution_count": 51,
   "metadata": {},
   "outputs": [
    {
     "data": {
      "text/plain": [
       "{'luciana@gmail.com': {'nome': 'Lu'},\n",
       " 'ana@gmail.com': {'nome': 'Ana', 'telefone': '1111-1111'}}"
      ]
     },
     "execution_count": 51,
     "metadata": {},
     "output_type": "execute_result"
    }
   ],
   "source": [
    "contatos.update({'ana@gmail.com':{'nome':'Ana', 'telefone':'1111-1111'}})\n",
    "\n",
    "contatos"
   ]
  },
  {
   "cell_type": "markdown",
   "metadata": {},
   "source": [
    "`{}.values`: retorna todos os valores do dicionário"
   ]
  },
  {
   "cell_type": "code",
   "execution_count": 62,
   "metadata": {},
   "outputs": [],
   "source": [
    "contatos = {\n",
    "    'luciana@gmail.com': {'nome': 'Luciana', 'telefone':'0000-0000'},\n",
    "    'ana@gmail.com':{'nome':'Ana', 'telefone':'1111-1111'},\n",
    "    'jose@gmail.com':{'nome':'José', 'telefone':'2222-2222'}\n",
    "}"
   ]
  },
  {
   "cell_type": "code",
   "execution_count": 63,
   "metadata": {},
   "outputs": [
    {
     "data": {
      "text/plain": [
       "dict_values([{'nome': 'Luciana', 'telefone': '0000-0000'}, {'nome': 'Ana', 'telefone': '1111-1111'}, {'nome': 'José', 'telefone': '2222-2222'}])"
      ]
     },
     "execution_count": 63,
     "metadata": {},
     "output_type": "execute_result"
    }
   ],
   "source": [
    "contatos.values()"
   ]
  },
  {
   "cell_type": "markdown",
   "metadata": {},
   "source": [
    "`in`: verifica se uma chave existe ou não no dicionário"
   ]
  },
  {
   "cell_type": "code",
   "execution_count": 64,
   "metadata": {},
   "outputs": [
    {
     "data": {
      "text/plain": [
       "True"
      ]
     },
     "execution_count": 64,
     "metadata": {},
     "output_type": "execute_result"
    }
   ],
   "source": [
    "'luciana@gmail.com' in contatos"
   ]
  },
  {
   "cell_type": "code",
   "execution_count": 65,
   "metadata": {},
   "outputs": [
    {
     "data": {
      "text/plain": [
       "False"
      ]
     },
     "execution_count": 65,
     "metadata": {},
     "output_type": "execute_result"
    }
   ],
   "source": [
    "'lucas@gmail.com' in contatos"
   ]
  },
  {
   "cell_type": "code",
   "execution_count": 66,
   "metadata": {},
   "outputs": [
    {
     "data": {
      "text/plain": [
       "False"
      ]
     },
     "execution_count": 66,
     "metadata": {},
     "output_type": "execute_result"
    }
   ],
   "source": [
    "'idade' in contatos['luciana@gmail.com']"
   ]
  },
  {
   "cell_type": "code",
   "execution_count": 67,
   "metadata": {},
   "outputs": [
    {
     "data": {
      "text/plain": [
       "True"
      ]
     },
     "execution_count": 67,
     "metadata": {},
     "output_type": "execute_result"
    }
   ],
   "source": [
    "'telefone' in contatos['jose@gmail.com']"
   ]
  },
  {
   "cell_type": "markdown",
   "metadata": {},
   "source": [
    "`del`: remove um item(objeto) específico de um dicionário"
   ]
  },
  {
   "cell_type": "code",
   "execution_count": 68,
   "metadata": {},
   "outputs": [],
   "source": [
    "# Removendo apenas o telefone do contato 'luciana@gmail.com'\n",
    "del contatos['luciana@gmail.com']['telefone']"
   ]
  },
  {
   "cell_type": "code",
   "execution_count": 69,
   "metadata": {},
   "outputs": [
    {
     "data": {
      "text/plain": [
       "{'luciana@gmail.com': {'nome': 'Luciana'},\n",
       " 'jose@gmail.com': {'nome': 'José', 'telefone': '2222-2222'}}"
      ]
     },
     "execution_count": 69,
     "metadata": {},
     "output_type": "execute_result"
    }
   ],
   "source": [
    "# Removendo a chave:valor\n",
    "del contatos ['ana@gmail.com']\n",
    "contatos"
   ]
  }
 ],
 "metadata": {
  "kernelspec": {
   "display_name": "Python 3",
   "language": "python",
   "name": "python3"
  },
  "language_info": {
   "codemirror_mode": {
    "name": "ipython",
    "version": 3
   },
   "file_extension": ".py",
   "mimetype": "text/x-python",
   "name": "python",
   "nbconvert_exporter": "python",
   "pygments_lexer": "ipython3",
   "version": "3.12.1"
  }
 },
 "nbformat": 4,
 "nbformat_minor": 2
}
